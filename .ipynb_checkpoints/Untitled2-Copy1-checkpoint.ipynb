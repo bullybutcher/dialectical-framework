{
 "cells": [
  {
   "cell_type": "code",
   "execution_count": 2,
   "id": "34155dd0-5cab-48fc-bf8d-30a833950f49",
   "metadata": {},
   "outputs": [],
   "source": [
    "import tests.test_analyst as anal"
   ]
  },
  {
   "cell_type": "code",
   "execution_count": 2,
   "id": "17d683db-c588-4045-9a9e-24b8977cf7f5",
   "metadata": {},
   "outputs": [
    {
     "data": {
      "text/plain": [
       "WisdomUnit(t_minus=DialecticalComponent(alias='T1-', statement='Destructive aggression', explanation=''), t=DialecticalComponent(alias='T1', statement='Putin initiates war', explanation=''), t_plus=DialecticalComponent(alias='T1+', statement='Strategic power projection', explanation=''), a_plus=DialecticalComponent(alias='A1+', statement='Mutual understanding', explanation=''), a=DialecticalComponent(alias='A1', statement='Peace negotiations', explanation=''), a_minus=DialecticalComponent(alias='A1-', statement='Passive submission', explanation=''))"
      ]
     },
     "execution_count": 2,
     "metadata": {},
     "output_type": "execute_result"
    }
   ],
   "source": [
    "anal.example_wu1"
   ]
  },
  {
   "cell_type": "code",
   "execution_count": 3,
   "id": "5bb84536-82da-423d-9000-a6397706c50d",
   "metadata": {},
   "outputs": [
    {
     "data": {
      "text/plain": [
       "'Putin started the war, Ukraine will not surrender and will finally win!'"
      ]
     },
     "execution_count": 3,
     "metadata": {},
     "output_type": "execute_result"
    }
   ],
   "source": [
    "anal.user_message"
   ]
  },
  {
   "cell_type": "code",
   "execution_count": 4,
   "id": "e3cdb62f-d1df-4d8f-becb-c0269d85f687",
   "metadata": {},
   "outputs": [
    {
     "name": "stderr",
     "output_type": "stream",
     "text": [
      "Langfuse client is disabled since no public_key was provided as a parameter or environment variable 'LANGFUSE_PUBLIC_KEY'. See our docs: https://langfuse.com/docs/sdk/python/low-level-sdk#initialize-client\n"
     ]
    },
    {
     "name": "stdout",
     "output_type": "stream",
     "text": [
      "\n",
      "\n",
      "T1-  Destructive aggression      T2-  Endless conflict and destruction      T3-  Military resources drain rapidly        T4-  Vengeance intensifies\n",
      "T1   Putin initiates war         T2   Ukraine resists invasion              T3   Russian offensive weakens               T4   Ukrainian victory approaches\n",
      "T1+  Strategic power projection  T2+  Liberation and sovereignty protected  T3+  Ukrainian victory approaches            T4+  Freedom restored\n",
      "A1+  Mutual understanding        A2+  Immediate peace achieved              A3+  Strategic military strength maintained  A4+  Stability maintained\n",
      "A1   Peace negotiations          A2   Ukraine surrenders to invasion        A3   Russian military dominance persists     A4   Russian dominance persists\n",
      "A1-  Passive submission          A2-  Freedom and independence lost         A3-  Total defeat inevitable                 A4-  Oppression deepens\n"
     ]
    }
   ],
   "source": [
    "anal.test_factory_loading()"
   ]
  },
  {
   "cell_type": "code",
   "execution_count": 8,
   "id": "ad5d18d6-59ce-4e52-b4bb-ef8898a74bf9",
   "metadata": {},
   "outputs": [
    {
     "name": "stdout",
     "output_type": "stream",
     "text": [
      "\n",
      "\n",
      "T1-  Destructive aggression      T2-  Endless conflict and destruction      T3-  Military resources drain rapidly        T4-  Vengeance intensifies\n",
      "T1   Putin initiates war         T2   Ukraine resists invasion              T3   Russian offensive weakens               T4   Ukrainian victory approaches\n",
      "T1+  Strategic power projection  T2+  Liberation and sovereignty protected  T3+  Ukrainian victory approaches            T4+  Freedom restored\n",
      "A1+  Mutual understanding        A2+  Immediate peace achieved              A3+  Strategic military strength maintained  A4+  Stability maintained\n",
      "A1   Peace negotiations          A2   Ukraine surrenders to invasion        A3   Russian military dominance persists     A4   Russian dominance persists\n",
      "A1-  Passive submission          A2-  Freedom and independence lost         A3-  Total defeat inevitable                 A4-  Oppression deepens\n",
      "\n",
      "\n",
      "\n",
      "\n",
      "T1 → T2 → T3 → T4 | Probability: 0.8\n",
      "T1 = Putin starts war\n",
      "T2 = Ukraine resists invasion\n",
      "T3 = Russian offensive weakens\n",
      "T4 = Ukrainian victory approaches\n",
      "Reasoning: The sequence is linear and reflects a logical progression of events: an instigator starts an event, a counteraction forms, this weakens the instigator, and the other actor gains momentum, resetting the cycle.\n",
      "Argumentation: Applicable in scenarios involving conflict escalation and a clear struggle between two actors or forces.\n",
      "---\n",
      "T1 → T2 → T3 → T4 → A1 → A2 → A3 → A4 | Probability: 0.6\n",
      "T1 = Putin starts war\n",
      "T2 = Ukraine resists invasion\n",
      "T3 = Russian offensive weakens\n",
      "T4 = Ukrainian victory approaches\n",
      "A1 = Other nations started the conflict first.\n",
      "A2 = Ukraine surrenders to invasion\n",
      "A3 = Russian military dominance persists\n",
      "A4 = Russian dominance persists\n",
      "Reasoning: This cycle begins with the initiation of conflict and follows a realistic pattern where resistance to invasion shifts into weakening of the aggressor's offensive and ultimately to victory. This triggers alternate narratives of blame and efforts either to surrender or reassert military dominance, which cycles back into the origin of the conflict. It reflects plausible shifts between aggression, resistance, and responses to outcomes.\n",
      "Argumentation: This sequence would be applicable in a context where both sides of a conflict oscillate between active engagement and shifting blame or dominance within contested narratives. It might be insightful for studying conflicts over sovereignty or contested borders.\n",
      "---\n",
      "T1-  Destructive aggression                                     T2-  Endless conflict and destruction  T3-  Military resources drain rapidly        T4-  Vengeance intensifies\n",
      "T1   Putin starts war                                           T2   Ukraine resists invasion          T3   Russian offensive weakens               T4   Ukrainian victory approaches\n",
      "T1+  Constructive Diplomacy and Strategic Peacemaking.          T2+  Keeping sovereignty               T3+  Ukrainian victory approaches            T4+  Freedom restored\n",
      "A1+  Fostering constructive dialogue and mutual understanding.  A2+  Immediate peace achieved          A3+  Strategic military strength maintained  A4+  Stability maintained\n",
      "A1   Other nations started the conflict first.                  A2   Ukraine surrenders to invasion    A3   Russian military dominance persists     A4   Russian dominance persists\n",
      "A1-  Unbridled hostility and willful ignorance towards others.  A2-  Freedom and independence lost     A3-  Total defeat inevitable                 A4-  Oppression deepens\n",
      "\n",
      "T1 → T2 → T3 → T4 | Probability: 0.8\n",
      "T1 = Putin starts war\n",
      "T2 = Ukraine resists invasion\n",
      "T3 = Russian offensive weakens\n",
      "T4 = Ukrainian victory approaches\n",
      "Reasoning: The sequence is linear and reflects a logical progression of events: an instigator starts an event, a counteraction forms, this weakens the instigator, and the other actor gains momentum, resetting the cycle.\n",
      "Argumentation: Applicable in scenarios involving conflict escalation and a clear struggle between two actors or forces.\n",
      "---\n",
      "T1 → T2 → T3 → A4 → A1 → A2 → A3 → T4 | Probability: 0.5\n",
      "T1 = Putin starts war\n",
      "T2 = Ukraine resists invasion\n",
      "T3 = Russian offensive weakens\n",
      "A4 = Russian dominance persists\n",
      "A1 = Other nations started the conflict first.\n",
      "A2 = Ukraine surrenders to invasion\n",
      "A3 = Russian military dominance persists\n",
      "T4 = Ukrainian victory approaches\n",
      "Reasoning: This cycle incorporates both weakening of military offense and the maintenance of stability, which shifts into contrasting narratives of blame and choice between surrender or continued resistance. It offers a plausible reflection on the oscillation between war outcomes and implications of stability versus conflict.\n",
      "Argumentation: This sequence might be most relevant in prolonged conflicts where military dynamics are intertwined with efforts to maintain control and stability while avoiding full escalation. It applies well to cases where both moral and practical considerations shape resistance and outcomes.\n",
      "---\n",
      "T1-  Destructive aggression                                     T2-  Endless conflict and destruction  T3-  Military resources drain rapidly        A4-  Oppression deepens\n",
      "T1   Putin starts war                                           T2   Ukraine resists invasion          T3   Russian offensive weakens               A4   Russian dominance persists\n",
      "T1+  Constructive Diplomacy and Strategic Peacemaking.          T2+  Keeping sovereignty               T3+  Ukrainian victory approaches            A4+  Stability maintained\n",
      "A1+  Fostering constructive dialogue and mutual understanding.  A2+  Immediate peace achieved          A3+  Strategic military strength maintained  T4+  Freedom restored\n",
      "A1   Other nations started the conflict first.                  A2   Ukraine surrenders to invasion    A3   Russian military dominance persists     T4   Ukrainian victory approaches\n",
      "A1-  Unbridled hostility and willful ignorance towards others.  A2-  Freedom and independence lost     A3-  Total defeat inevitable                 T4-  Vengeance intensifies\n",
      "\n",
      "T1 → T2 → T3 → T4 | Probability: 0.8\n",
      "T1 = Putin starts war\n",
      "T2 = Ukraine resists invasion\n",
      "T3 = Russian offensive weakens\n",
      "T4 = Ukrainian victory approaches\n",
      "Reasoning: The sequence is linear and reflects a logical progression of events: an instigator starts an event, a counteraction forms, this weakens the instigator, and the other actor gains momentum, resetting the cycle.\n",
      "Argumentation: Applicable in scenarios involving conflict escalation and a clear struggle between two actors or forces.\n",
      "---\n",
      "T1 → T2 → A4 → T3 → A1 → A2 → T4 → A3 | Probability: 0.4\n",
      "T1 = Putin starts war\n",
      "T2 = Ukraine resists invasion\n",
      "A4 = Russian dominance persists\n",
      "T3 = Russian offensive weakens\n",
      "A1 = Other nations started the conflict first.\n",
      "A2 = Ukraine surrenders to invasion\n",
      "T4 = Ukrainian victory approaches\n",
      "A3 = Russian military dominance persists\n",
      "Reasoning: Introducing stability as a contrasting element earlier in the cycle introduces an optimistic interlude, yet it may not fully reflect the gritty realities of conflict progression. While it highlights alternative paths, it lacks the natural causative progression of real-world conflict dynamics.\n",
      "Argumentation: This cycle is applicable in theoretical simulations that explore alternate trajectories and stability options without assuming direct linear causality. It may serve as a useful thought experiment rather than a robust reflection of realistic conflict outcomes.\n",
      "---\n",
      "T1-  Destructive aggression                                     T2-  Endless conflict and destruction  A4-  Oppression deepens            T3-  Military resources drain rapidly\n",
      "T1   Putin starts war                                           T2   Ukraine resists invasion          A4   Russian dominance persists    T3   Russian offensive weakens\n",
      "T1+  Constructive Diplomacy and Strategic Peacemaking.          T2+  Keeping sovereignty               A4+  Stability maintained          T3+  Ukrainian victory approaches\n",
      "A1+  Fostering constructive dialogue and mutual understanding.  A2+  Immediate peace achieved          T4+  Freedom restored              A3+  Strategic military strength maintained\n",
      "A1   Other nations started the conflict first.                  A2   Ukraine surrenders to invasion    T4   Ukrainian victory approaches  A3   Russian military dominance persists\n",
      "A1-  Unbridled hostility and willful ignorance towards others.  A2-  Freedom and independence lost     T4-  Vengeance intensifies         A3-  Total defeat inevitable\n",
      "\n",
      "T1 → T2 → T3 → T4 | Probability: 0.8\n",
      "T1 = Putin starts war\n",
      "T2 = Ukraine resists invasion\n",
      "T3 = Russian offensive weakens\n",
      "T4 = Ukrainian victory approaches\n",
      "Reasoning: The sequence is linear and reflects a logical progression of events: an instigator starts an event, a counteraction forms, this weakens the instigator, and the other actor gains momentum, resetting the cycle.\n",
      "Argumentation: Applicable in scenarios involving conflict escalation and a clear struggle between two actors or forces.\n",
      "---\n",
      "T1 → A4 → T2 → T3 → A1 → T4 → A2 → A3 | Probability: 0.4\n",
      "T1 = Putin starts war\n",
      "A4 = Russian dominance persists\n",
      "T2 = Ukraine resists invasion\n",
      "T3 = Russian offensive weakens\n",
      "A1 = Other nations started the conflict first.\n",
      "T4 = Ukrainian victory approaches\n",
      "A2 = Ukraine surrenders to invasion\n",
      "A3 = Russian military dominance persists\n",
      "Reasoning: Introducing stability at the onset of conflict provides an interesting diversion from traditional conflict progressions. However, it disrupts the immediate flow of cause and effect, making the sequence slightly less plausible in real-world contexts.\n",
      "Argumentation: Better suited to theoretical studies, this sequence models potential stabilizing factors in the early stages of a conflict and their influence on later dynamics. It may provide insights for peace-building and early intervention strategies.\n",
      "---\n",
      "T1-  Destructive aggression                                     A4-  Oppression deepens            T2-  Endless conflict and destruction  T3-  Military resources drain rapidly\n",
      "T1   Putin starts war                                           A4   Russian dominance persists    T2   Ukraine resists invasion          T3   Russian offensive weakens\n",
      "T1+  Constructive Diplomacy and Strategic Peacemaking.          A4+  Stability maintained          T2+  Keeping sovereignty               T3+  Ukrainian victory approaches\n",
      "A1+  Fostering constructive dialogue and mutual understanding.  T4+  Freedom restored              A2+  Immediate peace achieved          A3+  Strategic military strength maintained\n",
      "A1   Other nations started the conflict first.                  T4   Ukrainian victory approaches  A2   Ukraine surrenders to invasion    A3   Russian military dominance persists\n",
      "A1-  Unbridled hostility and willful ignorance towards others.  T4-  Vengeance intensifies         A2-  Freedom and independence lost     A3-  Total defeat inevitable\n",
      "\n",
      "T1 → T2 → T3 → T4 | Probability: 0.8\n",
      "T1 = Putin starts war\n",
      "T2 = Ukraine resists invasion\n",
      "T3 = Russian offensive weakens\n",
      "T4 = Ukrainian victory approaches\n",
      "Reasoning: The sequence is linear and reflects a logical progression of events: an instigator starts an event, a counteraction forms, this weakens the instigator, and the other actor gains momentum, resetting the cycle.\n",
      "Argumentation: Applicable in scenarios involving conflict escalation and a clear struggle between two actors or forces.\n",
      "---\n",
      "T1 → A3 → T2 → A4 → A1 → T3 → A2 → T4 | Probability: 0.35\n",
      "T1 = Putin starts war\n",
      "A3 = Russian military dominance persists\n",
      "T2 = Ukraine resists invasion\n",
      "A4 = Russian dominance persists\n",
      "A1 = Other nations started the conflict first.\n",
      "T3 = Russian offensive weakens\n",
      "A2 = Ukraine surrenders to invasion\n",
      "T4 = Ukrainian victory approaches\n",
      "Reasoning: Placing opposing reinforcements of dominance near the resistance stage shifts focus to competing military priorities rather than tangible outcomes. This is less plausible in reality, where tactical shifts are more direct.\n",
      "Argumentation: Most applicable in modeling competitive military strategies and decision-making processes in extended engagements rather than short-term conflicts or negotiations.\n",
      "---\n",
      "T1-  Destructive aggression                                     A3-  Total defeat inevitable                 T2-  Endless conflict and destruction  A4-  Oppression deepens\n",
      "T1   Putin starts war                                           A3   Russian military dominance persists     T2   Ukraine resists invasion          A4   Russian dominance persists\n",
      "T1+  Constructive Diplomacy and Strategic Peacemaking.          A3+  Strategic military strength maintained  T2+  Keeping sovereignty               A4+  Stability maintained\n",
      "A1+  Fostering constructive dialogue and mutual understanding.  T3+  Ukrainian victory approaches            A2+  Immediate peace achieved          T4+  Freedom restored\n",
      "A1   Other nations started the conflict first.                  T3   Russian offensive weakens               A2   Ukraine surrenders to invasion    T4   Ukrainian victory approaches\n",
      "A1-  Unbridled hostility and willful ignorance towards others.  T3-  Military resources drain rapidly        A2-  Freedom and independence lost     T4-  Vengeance intensifies\n",
      "\n",
      "T1 → T2 → T3 → T4 | Probability: 0.8\n",
      "T1 = Putin starts war\n",
      "T2 = Ukraine resists invasion\n",
      "T3 = Russian offensive weakens\n",
      "T4 = Ukrainian victory approaches\n",
      "Reasoning: The sequence is linear and reflects a logical progression of events: an instigator starts an event, a counteraction forms, this weakens the instigator, and the other actor gains momentum, resetting the cycle.\n",
      "Argumentation: Applicable in scenarios involving conflict escalation and a clear struggle between two actors or forces.\n",
      "---\n",
      "T1 → T2 → A3 → A4 → A1 → A2 → T3 → T4 | Probability: 0.3\n",
      "T1 = Putin starts war\n",
      "T2 = Ukraine resists invasion\n",
      "A3 = Russian military dominance persists\n",
      "A4 = Russian dominance persists\n",
      "A1 = Other nations started the conflict first.\n",
      "A2 = Ukraine surrenders to invasion\n",
      "T3 = Russian offensive weakens\n",
      "T4 = Ukrainian victory approaches\n",
      "Reasoning: Placing contrasting narratives of military dominance and stability earlier in the sequence diminishes the direct connection between actions and immediate outcomes. As a result, the cycle appears less aligned with how actual conflicts might progress.\n",
      "Argumentation: This sequence could be applicable to contexts emphasizing narrative shifts as primary drivers of conflict resolution rather than physical or strategic actions. It may find use in analyzing propaganda or media impacts on wartime dynamics.\n",
      "---\n",
      "T1-  Destructive aggression                                     T2-  Endless conflict and destruction  A3-  Total defeat inevitable                 A4-  Oppression deepens\n",
      "T1   Putin starts war                                           T2   Ukraine resists invasion          A3   Russian military dominance persists     A4   Russian dominance persists\n",
      "T1+  Constructive Diplomacy and Strategic Peacemaking.          T2+  Keeping sovereignty               A3+  Strategic military strength maintained  A4+  Stability maintained\n",
      "A1+  Fostering constructive dialogue and mutual understanding.  A2+  Immediate peace achieved          T3+  Ukrainian victory approaches            T4+  Freedom restored\n",
      "A1   Other nations started the conflict first.                  A2   Ukraine surrenders to invasion    T3   Russian offensive weakens               T4   Ukrainian victory approaches\n",
      "A1-  Unbridled hostility and willful ignorance towards others.  A2-  Freedom and independence lost     T3-  Military resources drain rapidly        T4-  Vengeance intensifies\n",
      "\n",
      "T1 → T2 → T3 → T4 | Probability: 0.8\n",
      "T1 = Putin starts war\n",
      "T2 = Ukraine resists invasion\n",
      "T3 = Russian offensive weakens\n",
      "T4 = Ukrainian victory approaches\n",
      "Reasoning: The sequence is linear and reflects a logical progression of events: an instigator starts an event, a counteraction forms, this weakens the instigator, and the other actor gains momentum, resetting the cycle.\n",
      "Argumentation: Applicable in scenarios involving conflict escalation and a clear struggle between two actors or forces.\n",
      "---\n",
      "T1 → A3 → A4 → T2 → A1 → T3 → T4 → A2 | Probability: 0.25\n",
      "T1 = Putin starts war\n",
      "A3 = Russian military dominance persists\n",
      "A4 = Russian dominance persists\n",
      "T2 = Ukraine resists invasion\n",
      "A1 = Other nations started the conflict first.\n",
      "T3 = Russian offensive weakens\n",
      "T4 = Ukrainian victory approaches\n",
      "A2 = Ukraine surrenders to invasion\n",
      "Reasoning: This sequence lacks a direct logical flow, given that narratives of dominance and stability are placed before primary conflict actions. It is the least grounded in observable conflict dynamics.\n",
      "Argumentation: May remain applicable in niche contexts exploring the role of stability and dominance independently from sequential actions. Useful for speculative scenarios but less valuable for grounded analysis.\n",
      "---\n",
      "T1-  Destructive aggression                                     A3-  Total defeat inevitable                 A4-  Oppression deepens            T2-  Endless conflict and destruction\n",
      "T1   Putin starts war                                           A3   Russian military dominance persists     A4   Russian dominance persists    T2   Ukraine resists invasion\n",
      "T1+  Constructive Diplomacy and Strategic Peacemaking.          A3+  Strategic military strength maintained  A4+  Stability maintained          T2+  Keeping sovereignty\n",
      "A1+  Fostering constructive dialogue and mutual understanding.  T3+  Ukrainian victory approaches            T4+  Freedom restored              A2+  Immediate peace achieved\n",
      "A1   Other nations started the conflict first.                  T3   Russian offensive weakens               T4   Ukrainian victory approaches  A2   Ukraine surrenders to invasion\n",
      "A1-  Unbridled hostility and willful ignorance towards others.  T3-  Military resources drain rapidly        T4-  Vengeance intensifies         A2-  Freedom and independence lost\n",
      "\n",
      "T1 → T2 → T3 → T4 | Probability: 0.8\n",
      "T1 = Putin starts war\n",
      "T2 = Ukraine resists invasion\n",
      "T3 = Russian offensive weakens\n",
      "T4 = Ukrainian victory approaches\n",
      "Reasoning: The sequence is linear and reflects a logical progression of events: an instigator starts an event, a counteraction forms, this weakens the instigator, and the other actor gains momentum, resetting the cycle.\n",
      "Argumentation: Applicable in scenarios involving conflict escalation and a clear struggle between two actors or forces.\n",
      "---\n",
      "T1 → A2 → A3 → A4 → A1 → T2 → T3 → T4 | Probability: 0.2\n",
      "T1 = Putin starts war\n",
      "A2 = Ukraine surrenders to invasion\n",
      "A3 = Russian military dominance persists\n",
      "A4 = Russian dominance persists\n",
      "A1 = Other nations started the conflict first.\n",
      "T2 = Ukraine resists invasion\n",
      "T3 = Russian offensive weakens\n",
      "T4 = Ukrainian victory approaches\n",
      "Reasoning: A sequence starting with surrender and narratives of dominance before stabilizing shifts or actual resistance postulates an unnatural flow. This represents a less realistic order of causation.\n",
      "Argumentation: Applicable for exploring hypothetical narratives where resolution and stability precede action and resistance, but it is abstract and less reflective of practical conflict developments.\n",
      "---\n",
      "T1-  Destructive aggression                                     A2-  Freedom and independence lost     A3-  Total defeat inevitable                 A4-  Oppression deepens\n",
      "T1   Putin starts war                                           A2   Ukraine surrenders to invasion    A3   Russian military dominance persists     A4   Russian dominance persists\n",
      "T1+  Constructive Diplomacy and Strategic Peacemaking.          A2+  Immediate peace achieved          A3+  Strategic military strength maintained  A4+  Stability maintained\n",
      "A1+  Fostering constructive dialogue and mutual understanding.  T2+  Keeping sovereignty               T3+  Ukrainian victory approaches            T4+  Freedom restored\n",
      "A1   Other nations started the conflict first.                  T2   Ukraine resists invasion          T3   Russian offensive weakens               T4   Ukrainian victory approaches\n",
      "A1-  Unbridled hostility and willful ignorance towards others.  T2-  Endless conflict and destruction  T3-  Military resources drain rapidly        T4-  Vengeance intensifies\n"
     ]
    }
   ],
   "source": [
    "await anal.test_wheel_redefine()"
   ]
  },
  {
   "cell_type": "code",
   "execution_count": 3,
   "id": "4e57e62a-27a8-40ff-bb4a-dc8903f1ad80",
   "metadata": {},
   "outputs": [
    {
     "name": "stderr",
     "output_type": "stream",
     "text": [
      "Langfuse client is disabled since no public_key was provided as a parameter or environment variable 'LANGFUSE_PUBLIC_KEY'. See our docs: https://langfuse.com/docs/sdk/python/low-level-sdk#initialize-client\n"
     ]
    },
    {
     "ename": "RuntimeError",
     "evalue": "asyncio.run() cannot be called from a running event loop",
     "output_type": "error",
     "traceback": [
      "\u001b[31m---------------------------------------------------------------------------\u001b[39m",
      "\u001b[31mRuntimeError\u001b[39m                              Traceback (most recent call last)",
      "\u001b[36mCell\u001b[39m\u001b[36m \u001b[39m\u001b[32mIn[3]\u001b[39m\u001b[32m, line 1\u001b[39m\n\u001b[32m----> \u001b[39m\u001b[32m1\u001b[39m \u001b[38;5;28;01mawait\u001b[39;00m anal.test_thought_mapping()\n",
      "\u001b[36mFile \u001b[39m\u001b[32m~/Library/Caches/pypoetry/virtualenvs/dialectical-framework-6UUiJe8X-py3.13/lib/python3.13/site-packages/langfuse/decorators/langfuse_decorator.py:219\u001b[39m, in \u001b[36mLangfuseDecorator._async_observe.<locals>.async_wrapper\u001b[39m\u001b[34m(*args, **kwargs)\u001b[39m\n\u001b[32m    217\u001b[39m     result = \u001b[38;5;28;01mawait\u001b[39;00m func(*args, **kwargs)\n\u001b[32m    218\u001b[39m \u001b[38;5;28;01mexcept\u001b[39;00m \u001b[38;5;167;01mException\u001b[39;00m \u001b[38;5;28;01mas\u001b[39;00m e:\n\u001b[32m--> \u001b[39m\u001b[32m219\u001b[39m     \u001b[38;5;28;43mself\u001b[39;49m\u001b[43m.\u001b[49m\u001b[43m_handle_exception\u001b[49m\u001b[43m(\u001b[49m\u001b[43mobservation\u001b[49m\u001b[43m,\u001b[49m\u001b[43m \u001b[49m\u001b[43me\u001b[49m\u001b[43m)\u001b[49m\n\u001b[32m    220\u001b[39m \u001b[38;5;28;01mfinally\u001b[39;00m:\n\u001b[32m    221\u001b[39m     result = \u001b[38;5;28mself\u001b[39m._finalize_call(\n\u001b[32m    222\u001b[39m         observation, result, capture_output, transform_to_string\n\u001b[32m    223\u001b[39m     )\n",
      "\u001b[36mFile \u001b[39m\u001b[32m~/Library/Caches/pypoetry/virtualenvs/dialectical-framework-6UUiJe8X-py3.13/lib/python3.13/site-packages/langfuse/decorators/langfuse_decorator.py:520\u001b[39m, in \u001b[36mLangfuseDecorator._handle_exception\u001b[39m\u001b[34m(self, observation, e)\u001b[39m\n\u001b[32m    516\u001b[39m \u001b[38;5;28;01mif\u001b[39;00m observation:\n\u001b[32m    517\u001b[39m     _observation_params_context.get()[observation.id].update(\n\u001b[32m    518\u001b[39m         level=\u001b[33m\"\u001b[39m\u001b[33mERROR\u001b[39m\u001b[33m\"\u001b[39m, status_message=\u001b[38;5;28mstr\u001b[39m(e)\n\u001b[32m    519\u001b[39m     )\n\u001b[32m--> \u001b[39m\u001b[32m520\u001b[39m \u001b[38;5;28;01mraise\u001b[39;00m e\n",
      "\u001b[36mFile \u001b[39m\u001b[32m~/Library/Caches/pypoetry/virtualenvs/dialectical-framework-6UUiJe8X-py3.13/lib/python3.13/site-packages/langfuse/decorators/langfuse_decorator.py:217\u001b[39m, in \u001b[36mLangfuseDecorator._async_observe.<locals>.async_wrapper\u001b[39m\u001b[34m(*args, **kwargs)\u001b[39m\n\u001b[32m    214\u001b[39m result = \u001b[38;5;28;01mNone\u001b[39;00m\n\u001b[32m    216\u001b[39m \u001b[38;5;28;01mtry\u001b[39;00m:\n\u001b[32m--> \u001b[39m\u001b[32m217\u001b[39m     result = \u001b[38;5;28;01mawait\u001b[39;00m func(*args, **kwargs)\n\u001b[32m    218\u001b[39m \u001b[38;5;28;01mexcept\u001b[39;00m \u001b[38;5;167;01mException\u001b[39;00m \u001b[38;5;28;01mas\u001b[39;00m e:\n\u001b[32m    219\u001b[39m     \u001b[38;5;28mself\u001b[39m._handle_exception(observation, e)\n",
      "\u001b[36mFile \u001b[39m\u001b[32m~/dialectical-framework/tests/test_analyst.py:92\u001b[39m, in \u001b[36mtest_thought_mapping\u001b[39m\u001b[34m()\u001b[39m\n\u001b[32m     90\u001b[39m nr_of_thoughts = \u001b[32m3\u001b[39m\n\u001b[32m     91\u001b[39m reasoner = ThoughtMapping(user_message)\n\u001b[32m---> \u001b[39m\u001b[32m92\u001b[39m cycles: List[Cycle] = \u001b[43masyncio\u001b[49m\u001b[43m.\u001b[49m\u001b[43mrun\u001b[49m\u001b[43m(\u001b[49m\u001b[43mreasoner\u001b[49m\u001b[43m.\u001b[49m\u001b[43mextract\u001b[49m\u001b[43m(\u001b[49m\u001b[43mnr_of_thoughts\u001b[49m\u001b[43m)\u001b[49m\u001b[43m)\u001b[49m\n\u001b[32m     93\u001b[39m \u001b[38;5;28mprint\u001b[39m(\u001b[33m\"\u001b[39m\u001b[38;5;130;01m\\n\u001b[39;00m\u001b[33m\"\u001b[39m)\n\u001b[32m     94\u001b[39m \u001b[38;5;28;01mfor\u001b[39;00m cycle \u001b[38;5;129;01min\u001b[39;00m cycles:\n",
      "\u001b[36mFile \u001b[39m\u001b[32m/opt/homebrew/Cellar/python@3.13/3.13.3_1/Frameworks/Python.framework/Versions/3.13/lib/python3.13/asyncio/runners.py:191\u001b[39m, in \u001b[36mrun\u001b[39m\u001b[34m(main, debug, loop_factory)\u001b[39m\n\u001b[32m    161\u001b[39m \u001b[38;5;250m\u001b[39m\u001b[33;03m\"\"\"Execute the coroutine and return the result.\u001b[39;00m\n\u001b[32m    162\u001b[39m \n\u001b[32m    163\u001b[39m \u001b[33;03mThis function runs the passed coroutine, taking care of\u001b[39;00m\n\u001b[32m   (...)\u001b[39m\u001b[32m    187\u001b[39m \u001b[33;03m    asyncio.run(main())\u001b[39;00m\n\u001b[32m    188\u001b[39m \u001b[33;03m\"\"\"\u001b[39;00m\n\u001b[32m    189\u001b[39m \u001b[38;5;28;01mif\u001b[39;00m events._get_running_loop() \u001b[38;5;129;01mis\u001b[39;00m \u001b[38;5;129;01mnot\u001b[39;00m \u001b[38;5;28;01mNone\u001b[39;00m:\n\u001b[32m    190\u001b[39m     \u001b[38;5;66;03m# fail fast with short traceback\u001b[39;00m\n\u001b[32m--> \u001b[39m\u001b[32m191\u001b[39m     \u001b[38;5;28;01mraise\u001b[39;00m \u001b[38;5;167;01mRuntimeError\u001b[39;00m(\n\u001b[32m    192\u001b[39m         \u001b[33m\"\u001b[39m\u001b[33masyncio.run() cannot be called from a running event loop\u001b[39m\u001b[33m\"\u001b[39m)\n\u001b[32m    194\u001b[39m \u001b[38;5;28;01mwith\u001b[39;00m Runner(debug=debug, loop_factory=loop_factory) \u001b[38;5;28;01mas\u001b[39;00m runner:\n\u001b[32m    195\u001b[39m     \u001b[38;5;28;01mreturn\u001b[39;00m runner.run(main)\n",
      "\u001b[31mRuntimeError\u001b[39m: asyncio.run() cannot be called from a running event loop"
     ]
    }
   ],
   "source": [
    "await anal.test_thought_mapping()"
   ]
  }
 ],
 "metadata": {
  "kernelspec": {
   "display_name": "Python 3 (ipykernel)",
   "language": "python",
   "name": "python3"
  },
  "language_info": {
   "codemirror_mode": {
    "name": "ipython",
    "version": 3
   },
   "file_extension": ".py",
   "mimetype": "text/x-python",
   "name": "python",
   "nbconvert_exporter": "python",
   "pygments_lexer": "ipython3",
   "version": "3.13.3"
  }
 },
 "nbformat": 4,
 "nbformat_minor": 5
}
