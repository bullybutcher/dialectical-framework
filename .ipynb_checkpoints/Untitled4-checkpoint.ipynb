{
 "cells": [
  {
   "cell_type": "code",
   "execution_count": 1,
   "id": "a7cf4750-7cb7-4e14-add6-0f4af73eba9c",
   "metadata": {},
   "outputs": [],
   "source": [
    "import tests.test_analyst as anal"
   ]
  },
  {
   "cell_type": "code",
   "execution_count": 2,
   "id": "58e29f15-b79f-446e-b130-b5bf9278ac2f",
   "metadata": {},
   "outputs": [],
   "source": [
    "import svg_generator as svgee"
   ]
  },
  {
   "cell_type": "code",
   "execution_count": 3,
   "id": "b5b58c92-ab2a-4159-8716-075fc4c3c26f",
   "metadata": {},
   "outputs": [],
   "source": [
    "slices = [anal.example_wu1, anal.example_wu2, anal.example_wu3, anal.example_wu4]"
   ]
  },
  {
   "cell_type": "code",
   "execution_count": 4,
   "id": "a9e0db5c-699c-4d80-a350-779c079d5f12",
   "metadata": {},
   "outputs": [
    {
     "data": {
      "text/plain": [
       "WisdomUnit(t_minus=DialecticalComponent(alias='T1-', statement='Destructive aggression', explanation=''), t=DialecticalComponent(alias='T1', statement='Putin initiates war', explanation=''), t_plus=DialecticalComponent(alias='T1+', statement='Strategic power projection', explanation=''), a_plus=DialecticalComponent(alias='A1+', statement='Mutual understanding', explanation=''), a=DialecticalComponent(alias='A1', statement='Peace negotiations', explanation=''), a_minus=DialecticalComponent(alias='A1-', statement='Passive submission', explanation=''))"
      ]
     },
     "execution_count": 4,
     "metadata": {},
     "output_type": "execute_result"
    }
   ],
   "source": [
    "slices[0]"
   ]
  },
  {
   "cell_type": "code",
   "execution_count": 5,
   "id": "26bce4f5-4bf0-40cd-b933-d20c98251c2e",
   "metadata": {},
   "outputs": [],
   "source": [
    "# Example arrows connecting labels\n",
    "arrows = [\n",
    "    {\"from_slice\": 1, \"from_layer\": 2, \"to_slice\": 0, \"to_layer\": 0, \"color\": \"blue\"},  # \"Separation\" -> \"Family unity\"\n",
    "    {\"from_slice\": 1, \"from_layer\": 0, \"to_slice\": 0, \"to_layer\": 2, \"color\": \"purple\"},  # \"Clarity, relief\" -> \"Burden\"\n",
    "]"
   ]
  },
  {
   "cell_type": "code",
   "execution_count": 6,
   "id": "f5c37848-74ef-4505-8020-ab8b9dcbe25d",
   "metadata": {},
   "outputs": [],
   "source": [
    "svg_code = svgee.svg_dialectical_wheel_wisdom(slices)"
   ]
  },
  {
   "cell_type": "code",
   "execution_count": 7,
   "id": "9b8ae16b-3b05-4cf6-bd6c-6010fc66d2fe",
   "metadata": {},
   "outputs": [
    {
     "name": "stdout",
     "output_type": "stream",
     "text": [
      "<svg width=\"400\" height=\"400\" xmlns=\"http://www.w3.org/2000/svg\">\n",
      "<g class=\"record\">\n",
      "<defs>\n",
      "</defs>\n",
      "<g id=\"slice-container\">\n",
      "<g class=\"slice-component thesis-slice\" data-slice=\"0\" data-pair=\"0\" data-type=\"thesis\" transform=\"rotate(0.0 200 200)\">\n",
      "<path d=\"M 240.0,130.71796769724492 A 80.0,80.0 0 0,1 240.0,269.28203230275506 L 222.5,238.97114317029974 A 45.0,45.0 0 0,0 222.5,161.02885682970026 Z\" fill=\"#C6E5B3\" stroke=\"#888\" stroke-width=\"0.5\"/>\n",
      "<path d=\"M 257.5,100.40707856478957 A 114.99999999999999,114.99999999999999 0 0,1 257.5,299.5929214352104 L 240.0,269.28203230275506 A 80.0,80.0 0 0,0 240.0,130.71796769724492 Z\" fill=\"#FFFFFF\" stroke=\"#888\" stroke-width=\"0.5\"/>\n",
      "<path d=\"M 275.0,70.09618943233423 A 149.99999999999997,149.99999999999997 0 0,1 275.0,329.9038105676658 L 257.5,299.5929214352104 A 114.99999999999999,114.99999999999999 0 0,0 257.5,100.40707856478957 Z\" fill=\"#F9C6CC\" stroke=\"#888\" stroke-width=\"0.5\"/>\n",
      "<path id=\"slice-0-arc-0\" d=\"M 235.0,139.3782217350893 A 70.0,70.0 0 0,1 235.0,260.6217782649107\" fill=\"none\"/>\n",
      "<text font-size=\"8\" fill=\"green\"><textPath href=\"#slice-0-arc-0\" startOffset=\"50%\" text-anchor=\"middle\">Strategic power projection</textPath></text>\n",
      "<path id=\"slice-0-arc-1\" d=\"M 252.5,109.06733260263395 A 104.99999999999999,104.99999999999999 0 0,1 252.5,290.93266739736606\" fill=\"none\"/>\n",
      "<text font-size=\"10\" fill=\"black\"><textPath href=\"#slice-0-arc-1\" startOffset=\"50%\" text-anchor=\"middle\">Putin initiates war</textPath></text>\n",
      "<path id=\"slice-0-arc-2\" d=\"M 270.0,78.75644347017862 A 139.99999999999997,139.99999999999997 0 0,1 270.0,321.2435565298214\" fill=\"none\"/>\n",
      "<text font-size=\"14\" fill=\"red\"><textPath href=\"#slice-0-arc-2\" startOffset=\"50%\" text-anchor=\"middle\">Destructive aggression</textPath></text>\n",
      "<line x1=\"200\" y1=\"200\" x2=\"275.0\" y2=\"70.0961894323342\" stroke=\"#888\" stroke-width=\"1\"/>\n",
      "<line x1=\"200\" y1=\"200\" x2=\"275.0\" y2=\"329.9038105676658\" stroke=\"#888\" stroke-width=\"1\"/>\n",
      "<path class=\"clickable-slice\" data-slice=\"0\" data-pair=\"0\" data-type=\"thesis\" d=\"M 200,200 L 275.0,70.0961894323342 A 150,150 0 0,1 275.0,329.9038105676658 Z\" fill=\"transparent\" stroke=\"transparent\"/>\n",
      "</g>\n",
      "<g class=\"slice-component antithesis-slice\" data-slice=\"1\" data-pair=\"2\" data-type=\"antithesis\" transform=\"rotate(60.0 200 200)\">\n",
      "<path d=\"M 240.0,130.71796769724492 A 80.0,80.0 0 0,1 240.0,269.28203230275506 L 222.5,238.97114317029974 A 45.0,45.0 0 0,0 222.5,161.02885682970026 Z\" fill=\"#C6E5B3\" stroke=\"#888\" stroke-width=\"0.5\"/>\n",
      "<path d=\"M 257.5,100.40707856478957 A 114.99999999999999,114.99999999999999 0 0,1 257.5,299.5929214352104 L 240.0,269.28203230275506 A 80.0,80.0 0 0,0 240.0,130.71796769724492 Z\" fill=\"#FFFFFF\" stroke=\"#888\" stroke-width=\"0.5\"/>\n",
      "<path d=\"M 275.0,70.09618943233423 A 149.99999999999997,149.99999999999997 0 0,1 275.0,329.9038105676658 L 257.5,299.5929214352104 A 114.99999999999999,114.99999999999999 0 0,0 257.5,100.40707856478957 Z\" fill=\"#F9C6CC\" stroke=\"#888\" stroke-width=\"0.5\"/>\n",
      "<path id=\"slice-1-arc-0\" d=\"M 235.0,139.3782217350893 A 70.0,70.0 0 0,1 235.0,260.6217782649107\" fill=\"none\"/>\n",
      "<text font-size=\"8\" fill=\"green\"><textPath href=\"#slice-1-arc-0\" startOffset=\"50%\" text-anchor=\"middle\">Strategic military strength maintained</textPath></text>\n",
      "<path id=\"slice-1-arc-1\" d=\"M 252.5,109.06733260263395 A 104.99999999999999,104.99999999999999 0 0,1 252.5,290.93266739736606\" fill=\"none\"/>\n",
      "<text font-size=\"10\" fill=\"black\"><textPath href=\"#slice-1-arc-1\" startOffset=\"50%\" text-anchor=\"middle\">Russian military dominance persists</textPath></text>\n",
      "<path id=\"slice-1-arc-2\" d=\"M 270.0,78.75644347017862 A 139.99999999999997,139.99999999999997 0 0,1 270.0,321.2435565298214\" fill=\"none\"/>\n",
      "<text font-size=\"14\" fill=\"red\"><textPath href=\"#slice-1-arc-2\" startOffset=\"50%\" text-anchor=\"middle\">Total defeat inevitable</textPath></text>\n",
      "<line x1=\"200\" y1=\"200\" x2=\"275.0\" y2=\"70.0961894323342\" stroke=\"#888\" stroke-width=\"1\"/>\n",
      "<line x1=\"200\" y1=\"200\" x2=\"275.0\" y2=\"329.9038105676658\" stroke=\"#888\" stroke-width=\"1\"/>\n",
      "<path class=\"clickable-slice\" data-slice=\"1\" data-pair=\"2\" data-type=\"antithesis\" d=\"M 200,200 L 275.0,70.0961894323342 A 150,150 0 0,1 275.0,329.9038105676658 Z\" fill=\"transparent\" stroke=\"transparent\"/>\n",
      "</g>\n",
      "<g class=\"slice-component thesis-slice\" data-slice=\"2\" data-pair=\"1\" data-type=\"thesis\" transform=\"rotate(120.0 200 200)\">\n",
      "<path d=\"M 240.0,130.71796769724492 A 80.0,80.0 0 0,1 240.0,269.28203230275506 L 222.5,238.97114317029974 A 45.0,45.0 0 0,0 222.5,161.02885682970026 Z\" fill=\"#C6E5B3\" stroke=\"#888\" stroke-width=\"0.5\"/>\n",
      "<path d=\"M 257.5,100.40707856478957 A 114.99999999999999,114.99999999999999 0 0,1 257.5,299.5929214352104 L 240.0,269.28203230275506 A 80.0,80.0 0 0,0 240.0,130.71796769724492 Z\" fill=\"#FFFFFF\" stroke=\"#888\" stroke-width=\"0.5\"/>\n",
      "<path d=\"M 275.0,70.09618943233423 A 149.99999999999997,149.99999999999997 0 0,1 275.0,329.9038105676658 L 257.5,299.5929214352104 A 114.99999999999999,114.99999999999999 0 0,0 257.5,100.40707856478957 Z\" fill=\"#F9C6CC\" stroke=\"#888\" stroke-width=\"0.5\"/>\n",
      "<path id=\"slice-2-arc-0\" d=\"M 235.0,139.3782217350893 A 70.0,70.0 0 0,1 235.0,260.6217782649107\" fill=\"none\"/>\n",
      "<text font-size=\"8\" fill=\"green\"><textPath href=\"#slice-2-arc-0\" startOffset=\"50%\" text-anchor=\"middle\">Liberation and sovereignty protected</textPath></text>\n",
      "<path id=\"slice-2-arc-1\" d=\"M 252.5,109.06733260263395 A 104.99999999999999,104.99999999999999 0 0,1 252.5,290.93266739736606\" fill=\"none\"/>\n",
      "<text font-size=\"10\" fill=\"black\"><textPath href=\"#slice-2-arc-1\" startOffset=\"50%\" text-anchor=\"middle\">Ukraine resists invasion</textPath></text>\n",
      "<path id=\"slice-2-arc-2\" d=\"M 270.0,78.75644347017862 A 139.99999999999997,139.99999999999997 0 0,1 270.0,321.2435565298214\" fill=\"none\"/>\n",
      "<text font-size=\"14\" fill=\"red\"><textPath href=\"#slice-2-arc-2\" startOffset=\"50%\" text-anchor=\"middle\">Endless conflict and destruction</textPath></text>\n",
      "<line x1=\"200\" y1=\"200\" x2=\"275.0\" y2=\"70.0961894323342\" stroke=\"#888\" stroke-width=\"1\"/>\n",
      "<line x1=\"200\" y1=\"200\" x2=\"275.0\" y2=\"329.9038105676658\" stroke=\"#888\" stroke-width=\"1\"/>\n",
      "<path class=\"clickable-slice\" data-slice=\"2\" data-pair=\"1\" data-type=\"thesis\" d=\"M 200,200 L 275.0,70.0961894323342 A 150,150 0 0,1 275.0,329.9038105676658 Z\" fill=\"transparent\" stroke=\"transparent\"/>\n",
      "</g>\n",
      "<g class=\"slice-component antithesis-slice\" data-slice=\"3\" data-pair=\"0\" data-type=\"antithesis\" transform=\"rotate(180.0 200 200)\">\n",
      "<path d=\"M 240.0,130.71796769724492 A 80.0,80.0 0 0,1 240.0,269.28203230275506 L 222.5,238.97114317029974 A 45.0,45.0 0 0,0 222.5,161.02885682970026 Z\" fill=\"#C6E5B3\" stroke=\"#888\" stroke-width=\"0.5\"/>\n",
      "<path d=\"M 257.5,100.40707856478957 A 114.99999999999999,114.99999999999999 0 0,1 257.5,299.5929214352104 L 240.0,269.28203230275506 A 80.0,80.0 0 0,0 240.0,130.71796769724492 Z\" fill=\"#FFFFFF\" stroke=\"#888\" stroke-width=\"0.5\"/>\n",
      "<path d=\"M 275.0,70.09618943233423 A 149.99999999999997,149.99999999999997 0 0,1 275.0,329.9038105676658 L 257.5,299.5929214352104 A 114.99999999999999,114.99999999999999 0 0,0 257.5,100.40707856478957 Z\" fill=\"#F9C6CC\" stroke=\"#888\" stroke-width=\"0.5\"/>\n",
      "<path id=\"slice-3-arc-0\" d=\"M 235.0,139.3782217350893 A 70.0,70.0 0 0,1 235.0,260.6217782649107\" fill=\"none\"/>\n",
      "<text font-size=\"8\" fill=\"green\"><textPath href=\"#slice-3-arc-0\" startOffset=\"50%\" text-anchor=\"middle\">Mutual understanding</textPath></text>\n",
      "<path id=\"slice-3-arc-1\" d=\"M 252.5,109.06733260263395 A 104.99999999999999,104.99999999999999 0 0,1 252.5,290.93266739736606\" fill=\"none\"/>\n",
      "<text font-size=\"10\" fill=\"black\"><textPath href=\"#slice-3-arc-1\" startOffset=\"50%\" text-anchor=\"middle\">Peace negotiations</textPath></text>\n",
      "<path id=\"slice-3-arc-2\" d=\"M 270.0,78.75644347017862 A 139.99999999999997,139.99999999999997 0 0,1 270.0,321.2435565298214\" fill=\"none\"/>\n",
      "<text font-size=\"14\" fill=\"red\"><textPath href=\"#slice-3-arc-2\" startOffset=\"50%\" text-anchor=\"middle\">Passive submission</textPath></text>\n",
      "<line x1=\"200\" y1=\"200\" x2=\"275.0\" y2=\"70.0961894323342\" stroke=\"#888\" stroke-width=\"1\"/>\n",
      "<line x1=\"200\" y1=\"200\" x2=\"275.0\" y2=\"329.9038105676658\" stroke=\"#888\" stroke-width=\"1\"/>\n",
      "<path class=\"clickable-slice\" data-slice=\"3\" data-pair=\"0\" data-type=\"antithesis\" d=\"M 200,200 L 275.0,70.0961894323342 A 150,150 0 0,1 275.0,329.9038105676658 Z\" fill=\"transparent\" stroke=\"transparent\"/>\n",
      "</g>\n",
      "<g class=\"slice-component thesis-slice\" data-slice=\"4\" data-pair=\"2\" data-type=\"thesis\" transform=\"rotate(240.0 200 200)\">\n",
      "<path d=\"M 240.0,130.71796769724492 A 80.0,80.0 0 0,1 240.0,269.28203230275506 L 222.5,238.97114317029974 A 45.0,45.0 0 0,0 222.5,161.02885682970026 Z\" fill=\"#C6E5B3\" stroke=\"#888\" stroke-width=\"0.5\"/>\n",
      "<path d=\"M 257.5,100.40707856478957 A 114.99999999999999,114.99999999999999 0 0,1 257.5,299.5929214352104 L 240.0,269.28203230275506 A 80.0,80.0 0 0,0 240.0,130.71796769724492 Z\" fill=\"#FFFFFF\" stroke=\"#888\" stroke-width=\"0.5\"/>\n",
      "<path d=\"M 275.0,70.09618943233423 A 149.99999999999997,149.99999999999997 0 0,1 275.0,329.9038105676658 L 257.5,299.5929214352104 A 114.99999999999999,114.99999999999999 0 0,0 257.5,100.40707856478957 Z\" fill=\"#F9C6CC\" stroke=\"#888\" stroke-width=\"0.5\"/>\n",
      "<path id=\"slice-4-arc-0\" d=\"M 235.0,139.3782217350893 A 70.0,70.0 0 0,1 235.0,260.6217782649107\" fill=\"none\"/>\n",
      "<text font-size=\"8\" fill=\"green\"><textPath href=\"#slice-4-arc-0\" startOffset=\"50%\" text-anchor=\"middle\">Ukrainian victory approaches</textPath></text>\n",
      "<path id=\"slice-4-arc-1\" d=\"M 252.5,109.06733260263395 A 104.99999999999999,104.99999999999999 0 0,1 252.5,290.93266739736606\" fill=\"none\"/>\n",
      "<text font-size=\"10\" fill=\"black\"><textPath href=\"#slice-4-arc-1\" startOffset=\"50%\" text-anchor=\"middle\">Russian offensive weakens</textPath></text>\n",
      "<path id=\"slice-4-arc-2\" d=\"M 270.0,78.75644347017862 A 139.99999999999997,139.99999999999997 0 0,1 270.0,321.2435565298214\" fill=\"none\"/>\n",
      "<text font-size=\"14\" fill=\"red\"><textPath href=\"#slice-4-arc-2\" startOffset=\"50%\" text-anchor=\"middle\">Military resources drain rapidly</textPath></text>\n",
      "<line x1=\"200\" y1=\"200\" x2=\"275.0\" y2=\"70.0961894323342\" stroke=\"#888\" stroke-width=\"1\"/>\n",
      "<line x1=\"200\" y1=\"200\" x2=\"275.0\" y2=\"329.9038105676658\" stroke=\"#888\" stroke-width=\"1\"/>\n",
      "<path class=\"clickable-slice\" data-slice=\"4\" data-pair=\"2\" data-type=\"thesis\" d=\"M 200,200 L 275.0,70.0961894323342 A 150,150 0 0,1 275.0,329.9038105676658 Z\" fill=\"transparent\" stroke=\"transparent\"/>\n",
      "</g>\n",
      "<g class=\"slice-component antithesis-slice\" data-slice=\"5\" data-pair=\"1\" data-type=\"antithesis\" transform=\"rotate(300.0 200 200)\">\n",
      "<path d=\"M 240.0,130.71796769724492 A 80.0,80.0 0 0,1 240.0,269.28203230275506 L 222.5,238.97114317029974 A 45.0,45.0 0 0,0 222.5,161.02885682970026 Z\" fill=\"#C6E5B3\" stroke=\"#888\" stroke-width=\"0.5\"/>\n",
      "<path d=\"M 257.5,100.40707856478957 A 114.99999999999999,114.99999999999999 0 0,1 257.5,299.5929214352104 L 240.0,269.28203230275506 A 80.0,80.0 0 0,0 240.0,130.71796769724492 Z\" fill=\"#FFFFFF\" stroke=\"#888\" stroke-width=\"0.5\"/>\n",
      "<path d=\"M 275.0,70.09618943233423 A 149.99999999999997,149.99999999999997 0 0,1 275.0,329.9038105676658 L 257.5,299.5929214352104 A 114.99999999999999,114.99999999999999 0 0,0 257.5,100.40707856478957 Z\" fill=\"#F9C6CC\" stroke=\"#888\" stroke-width=\"0.5\"/>\n",
      "<path id=\"slice-5-arc-0\" d=\"M 235.0,139.3782217350893 A 70.0,70.0 0 0,1 235.0,260.6217782649107\" fill=\"none\"/>\n",
      "<text font-size=\"8\" fill=\"green\"><textPath href=\"#slice-5-arc-0\" startOffset=\"50%\" text-anchor=\"middle\">Immediate peace achieved</textPath></text>\n",
      "<path id=\"slice-5-arc-1\" d=\"M 252.5,109.06733260263395 A 104.99999999999999,104.99999999999999 0 0,1 252.5,290.93266739736606\" fill=\"none\"/>\n",
      "<text font-size=\"10\" fill=\"black\"><textPath href=\"#slice-5-arc-1\" startOffset=\"50%\" text-anchor=\"middle\">Ukraine surrenders to invasion</textPath></text>\n",
      "<path id=\"slice-5-arc-2\" d=\"M 270.0,78.75644347017862 A 139.99999999999997,139.99999999999997 0 0,1 270.0,321.2435565298214\" fill=\"none\"/>\n",
      "<text font-size=\"14\" fill=\"red\"><textPath href=\"#slice-5-arc-2\" startOffset=\"50%\" text-anchor=\"middle\">Freedom and independence lost</textPath></text>\n",
      "<line x1=\"200\" y1=\"200\" x2=\"275.0\" y2=\"70.0961894323342\" stroke=\"#888\" stroke-width=\"1\"/>\n",
      "<line x1=\"200\" y1=\"200\" x2=\"275.0\" y2=\"329.9038105676658\" stroke=\"#888\" stroke-width=\"1\"/>\n",
      "<path class=\"clickable-slice\" data-slice=\"5\" data-pair=\"1\" data-type=\"antithesis\" d=\"M 200,200 L 275.0,70.0961894323342 A 150,150 0 0,1 275.0,329.9038105676658 Z\" fill=\"transparent\" stroke=\"transparent\"/>\n",
      "</g>\n",
      "</g>\n",
      "<circle cx=\"200\" cy=\"200\" r=\"30.0\" fill=\"#FFC107\"/>\n",
      "<text x=\"200\" y=\"200\" font-size=\"16\" font-weight=\"bold\" text-anchor=\"middle\" alignment-baseline=\"middle\">Core</text>\n",
      "</g>\n",
      "</svg>\n"
     ]
    }
   ],
   "source": [
    "print(svg_code)"
   ]
  },
  {
   "cell_type": "code",
   "execution_count": 8,
   "id": "16eeddf6-6ede-4630-8447-aceab2a5a634",
   "metadata": {},
   "outputs": [],
   "source": [
    "with open(\"dialectical_wheel.svg\", \"w\") as f:\n",
    "    f.write(svg_code)"
   ]
  },
  {
   "cell_type": "code",
   "execution_count": null,
   "id": "ec7059b8-335e-49a0-94bf-7d3842fca902",
   "metadata": {},
   "outputs": [],
   "source": []
  }
 ],
 "metadata": {
  "kernelspec": {
   "display_name": "Python (Poetry)",
   "language": "python",
   "name": "dialectical-framework-6uuije8x-py3.13"
  },
  "language_info": {
   "codemirror_mode": {
    "name": "ipython",
    "version": 3
   },
   "file_extension": ".py",
   "mimetype": "text/x-python",
   "name": "python",
   "nbconvert_exporter": "python",
   "pygments_lexer": "ipython3",
   "version": "3.13.3"
  }
 },
 "nbformat": 4,
 "nbformat_minor": 5
}
