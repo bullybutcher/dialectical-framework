{
 "cells": [
  {
   "cell_type": "code",
   "execution_count": 19,
   "id": "a7cf4750-7cb7-4e14-add6-0f4af73eba9c",
   "metadata": {},
   "outputs": [],
   "source": [
    "import tests.test_analyst as anal"
   ]
  },
  {
   "cell_type": "code",
   "execution_count": 20,
   "id": "58e29f15-b79f-446e-b130-b5bf9278ac2f",
   "metadata": {},
   "outputs": [],
   "source": [
    "import svg_generator as svgee"
   ]
  },
  {
   "cell_type": "code",
   "execution_count": 21,
   "id": "b5b58c92-ab2a-4159-8716-075fc4c3c26f",
   "metadata": {},
   "outputs": [],
   "source": [
    "slices = [anal.example_wu1]"
   ]
  },
  {
   "cell_type": "code",
   "execution_count": 22,
   "id": "a9e0db5c-699c-4d80-a350-779c079d5f12",
   "metadata": {},
   "outputs": [
    {
     "data": {
      "text/plain": [
       "WisdomUnit(t_minus=DialecticalComponent(alias='T1-', statement='Destructive aggression', explanation=''), t=DialecticalComponent(alias='T1', statement='Putin initiates war', explanation=''), t_plus=DialecticalComponent(alias='T1+', statement='Strategic power projection', explanation=''), a_plus=DialecticalComponent(alias='A1+', statement='Mutual understanding', explanation=''), a=DialecticalComponent(alias='A1', statement='Peace negotiations', explanation=''), a_minus=DialecticalComponent(alias='A1-', statement='Passive submission', explanation=''))"
      ]
     },
     "execution_count": 22,
     "metadata": {},
     "output_type": "execute_result"
    }
   ],
   "source": [
    "slices[0]"
   ]
  },
  {
   "cell_type": "code",
   "execution_count": 23,
   "id": "f5c37848-74ef-4505-8020-ab8b9dcbe25d",
   "metadata": {},
   "outputs": [],
   "source": [
    "svg_code = svgee.svg_dialectical_wheel_wisdom(slices)"
   ]
  },
  {
   "cell_type": "code",
   "execution_count": 24,
   "id": "9b8ae16b-3b05-4cf6-bd6c-6010fc66d2fe",
   "metadata": {},
   "outputs": [
    {
     "name": "stdout",
     "output_type": "stream",
     "text": [
      "<svg width=\"400\" height=\"400\" xmlns=\"http://www.w3.org/2000/svg\">\n",
      "<defs>\n",
      "<path id=\"arc0\" d=\"M 260.0,200.0 A 60.0,60.0 0 0,1 140.0,200.0\" fill=\"none\"/>\n",
      "<path id=\"arc1\" d=\"M 295.0,200.0 A 94.99999999999999,94.99999999999999 0 0,1 105.00000000000001,200.0\" fill=\"none\"/>\n",
      "<path id=\"arc2\" d=\"M 330.0,200.0 A 129.99999999999997,129.99999999999997 0 0,1 70.00000000000003,200.00000000000003\" fill=\"none\"/>\n",
      "<path id=\"arc3\" d=\"M 140.0,200.0 A 60.0,60.0 0 0,1 260.0,199.99999999999997\" fill=\"none\"/>\n",
      "<path id=\"arc4\" d=\"M 105.00000000000001,200.0 A 94.99999999999999,94.99999999999999 0 0,1 295.0,199.99999999999997\" fill=\"none\"/>\n",
      "<path id=\"arc5\" d=\"M 70.00000000000003,200.00000000000003 A 129.99999999999997,129.99999999999997 0 0,1 330.0,199.99999999999997\" fill=\"none\"/>\n",
      "</defs>\n",
      "<circle cx=\"200\" cy=\"200\" r=\"149.99999999999997\" fill=\"#F9C6CC\" stroke=\"black\" stroke-width=\"1\"/>\n",
      "<circle cx=\"200\" cy=\"200\" r=\"114.99999999999999\" fill=\"#FFFFFF\" stroke=\"black\" stroke-width=\"1\"/>\n",
      "<circle cx=\"200\" cy=\"200\" r=\"80.0\" fill=\"#C6E5B3\" stroke=\"black\" stroke-width=\"1\"/>\n",
      "<circle cx=\"200\" cy=\"200\" r=\"30.0\" fill=\"#FFFF99\" stroke=\"black\" stroke-width=\"2\"/>\n",
      "<text x=\"200\" y=\"200\" font-size=\"16\" font-weight=\"bold\" text-anchor=\"middle\" alignment-baseline=\"middle\">Core</text>\n",
      "<text font-size=\"6.0\" fill=\"green\"><textPath href=\"#arc0\" startOffset=\"50%\" text-anchor=\"middle\">Strategic power projection</textPath></text>\n",
      "<text font-size=\"12.0\" fill=\"black\"><textPath href=\"#arc1\" startOffset=\"50%\" text-anchor=\"middle\">Putin initiates war</textPath></text>\n",
      "<text font-size=\"18\" fill=\"red\"><textPath href=\"#arc2\" startOffset=\"50%\" text-anchor=\"middle\">Destructive aggression</textPath></text>\n",
      "<path d=\"M 200,200 L 350.0,200.0 A 150,150 0 0,1 50.0,200.00000000000003 Z\" fill=\"none\" stroke=\"#888\" stroke-width=\"1\"/>\n",
      "<text font-size=\"6.0\" fill=\"green\"><textPath href=\"#arc3\" startOffset=\"50%\" text-anchor=\"middle\">Mutual understanding</textPath></text>\n",
      "<text font-size=\"12.0\" fill=\"black\"><textPath href=\"#arc4\" startOffset=\"50%\" text-anchor=\"middle\">Peace negotiations</textPath></text>\n",
      "<text font-size=\"18\" fill=\"red\"><textPath href=\"#arc5\" startOffset=\"50%\" text-anchor=\"middle\">Passive submission</textPath></text>\n",
      "<path d=\"M 200,200 L 50.0,200.00000000000003 A 150,150 0 0,1 350.0,199.99999999999997 Z\" fill=\"none\" stroke=\"#888\" stroke-width=\"1\"/>\n",
      "</svg>\n"
     ]
    }
   ],
   "source": [
    "print(svg_code)"
   ]
  }
 ],
 "metadata": {
  "kernelspec": {
   "display_name": "Python (Poetry)",
   "language": "python",
   "name": "dialectical-framework-6uuije8x-py3.13"
  },
  "language_info": {
   "codemirror_mode": {
    "name": "ipython",
    "version": 3
   },
   "file_extension": ".py",
   "mimetype": "text/x-python",
   "name": "python",
   "nbconvert_exporter": "python",
   "pygments_lexer": "ipython3",
   "version": "3.13.3"
  }
 },
 "nbformat": 4,
 "nbformat_minor": 5
}
