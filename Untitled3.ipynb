{
 "cells": [
  {
   "cell_type": "code",
   "execution_count": 50,
   "id": "2d45b2b8-73d3-468a-b5e2-622efa9a1c03",
   "metadata": {},
   "outputs": [],
   "source": [
    "import math\n",
    "\n",
    "def svg_dialectical_wheel(slices, center_label=\"Core\", radius=150, width=400, height=400):\n",
    "    \"\"\"\n",
    "    slices: list of dicts, each with keys:\n",
    "        - labels: list of (label, color) from center outward along the slice\n",
    "    Example:\n",
    "        slices = [\n",
    "            {\"labels\": [(\"Clarity, relief\", \"yellow\"), (\"Family unity\", \"green\"), (\"Buy a house\", \"black\"), (\"Burden\", \"red\")]},\n",
    "            {\"labels\": [(\"Clarity, relief\", \"yellow\"), (\"Don't buy\", \"black\"), (\"Separation\", \"red\")]},\n",
    "        ]\n",
    "    \"\"\"\n",
    "    cx, cy = width // 2, height // 2\n",
    "    n = len(slices)\n",
    "    angle_per = 2 * math.pi / n\n",
    "    svg = [f'<svg width=\"{width}\" height=\"{height}\" xmlns=\"http://www.w3.org/2000/svg\">']\n",
    "\n",
    "    # Draw concentric circles for each layer\n",
    "    max_labels = max(len(sl[\"labels\"]) for sl in slices)\n",
    "    circle_colors = [\"#C6E5B3\", \"#FFFFFF\", \"#F9C6CC\", \"#FFFF99\"]  # yellow, green, white, pink/red\n",
    "    for i in range(max_labels, 0, -1):\n",
    "        r = radius * (0.3 + 0.7 * i / max_labels)\n",
    "        color = circle_colors[i-1] if i-1 < len(circle_colors) else \"#EEE\"\n",
    "        svg.append(f'<circle cx=\"{cx}\" cy=\"{cy}\" r=\"{r}\" fill=\"{color}\" stroke=\"black\" stroke-width=\"1\"/>')\n",
    "\n",
    "    # Draw center circle and label\n",
    "    svg.append(f'<circle cx=\"{cx}\" cy=\"{cy}\" r=\"{radius*0.2}\" fill=\"#FFFF99\" stroke=\"black\" stroke-width=\"2\"/>')\n",
    "    svg.append(\n",
    "        f'<text x=\"{cx}\" y=\"{cy}\" font-size=\"16\" font-weight=\"bold\" text-anchor=\"middle\" alignment-baseline=\"middle\">{center_label}</text>'\n",
    "    )\n",
    "\n",
    "    # Draw each slice\n",
    "    for i, sl in enumerate(slices):\n",
    "        start_angle = i * angle_per\n",
    "        end_angle = (i + 1) * angle_per\n",
    "        angle_mid = (start_angle + end_angle) / 2\n",
    "        n_labels = len(sl[\"labels\"])\n",
    "        for j, (label, color) in enumerate(sl[\"labels\"]):\n",
    "            r = radius * (0.3 + 0.7 * (j+1) / n_labels)  # spread labels from center outward\n",
    "            lx = cx + (r - 20)* math.cos(angle_mid)\n",
    "            ly = cy + (r - 20)* math.sin(angle_mid)\n",
    "            # Convert angle to degrees and adjust for text orientation\n",
    "            rotation = math.degrees(angle_mid) + 90\n",
    "            svg.append(\n",
    "                f'<text x=\"{lx}\" y=\"{ly}\" font-size=\"14\" text-anchor=\"middle\" alignment-baseline=\"middle\" fill=\"{color}\" transform=\"rotate({rotation} {lx} {ly})\">{label}</text>'\n",
    "            )\n",
    "        # Draw the slice sector (optional, for visual separation)\n",
    "        x1 = cx + radius * math.cos(start_angle)\n",
    "        y1 = cy + radius * math.sin(start_angle)\n",
    "        x2 = cx + radius * math.cos(end_angle)\n",
    "        y2 = cy + radius * math.sin(end_angle)\n",
    "        large_arc = 1 if angle_per > math.pi else 0\n",
    "        path = (\n",
    "            f'M {cx},{cy} '\n",
    "            f'L {x1},{y1} '\n",
    "            f'A {radius},{radius} 0 {large_arc},1 {x2},{y2} '\n",
    "            f'Z'\n",
    "        )\n",
    "        svg.append(f'<path d=\"{path}\" fill=\"none\" stroke=\"#888\" stroke-width=\"1\"/>')\n",
    "\n",
    "    svg.append('</svg>')\n",
    "    return \"\\n\".join(svg)\n",
    "\n",
    "# Example usage:\n",
    "slices = [\n",
    "    {\"labels\": [(\"Family unity\", \"green\"), (\"Buy a house\", \"black\"), (\"Burden\", \"red\")]},\n",
    "    {\"labels\": [(\"Clarity, relief\", \"green\"), (\"Don't buy\", \"black\"), (\"Separation\", \"red\")]},\n",
    "    {\"labels\": [(\"Gheyness\", \"green\"), (\"Be homeless\", \"black\"), (\"Liberation\", \"red\")]},\n",
    "]\n",
    "svg_code = svg_dialectical_wheel(slices, center_label=\"bruh\")\n",
    "with open(\"dialectical_wheel.svg\", \"w\") as f:\n",
    "    f.write(svg_code)\n"
   ]
  },
  {
   "cell_type": "code",
   "execution_count": 51,
   "id": "2700fd50-a30d-47c0-a5dc-737f0df9ee30",
   "metadata": {},
   "outputs": [
    {
     "data": {
      "text/plain": [
       "'<svg width=\"400\" height=\"400\" xmlns=\"http://www.w3.org/2000/svg\">\\n<circle cx=\"200\" cy=\"200\" r=\"149.99999999999997\" fill=\"#F9C6CC\" stroke=\"black\" stroke-width=\"1\"/>\\n<circle cx=\"200\" cy=\"200\" r=\"114.99999999999999\" fill=\"#FFFFFF\" stroke=\"black\" stroke-width=\"1\"/>\\n<circle cx=\"200\" cy=\"200\" r=\"80.0\" fill=\"#C6E5B3\" stroke=\"black\" stroke-width=\"1\"/>\\n<circle cx=\"200\" cy=\"200\" r=\"30.0\" fill=\"#FFFF99\" stroke=\"black\" stroke-width=\"2\"/>\\n<text x=\"200\" y=\"200\" font-size=\"16\" font-weight=\"bold\" text-anchor=\"middle\" alignment-baseline=\"middle\">bruh</text>\\n<text x=\"230.0\" y=\"251.96152422706632\" font-size=\"14\" text-anchor=\"middle\" alignment-baseline=\"middle\" fill=\"green\" transform=\"rotate(150.0 230.0 251.96152422706632)\">Family unity</text>\\n<text x=\"247.5\" y=\"282.27241335952164\" font-size=\"14\" text-anchor=\"middle\" alignment-baseline=\"middle\" fill=\"black\" transform=\"rotate(150.0 247.5 282.27241335952164)\">Buy a house</text>\\n<text x=\"265.0\" y=\"312.583302491977\" font-size=\"14\" text-anchor=\"middle\" alignment-baseline=\"middle\" fill=\"red\" transform=\"rotate(150.0 265.0 312.583302491977)\">Burden</text>\\n<path d=\"M 200,200 L 350.0,200.0 A 150,150 0 0,1 125.00000000000003,329.9038105676658 Z\" fill=\"none\" stroke=\"#888\" stroke-width=\"1\"/>\\n<text x=\"140.0\" y=\"200.0\" font-size=\"14\" text-anchor=\"middle\" alignment-baseline=\"middle\" fill=\"green\" transform=\"rotate(270.0 140.0 200.0)\">Clarity, relief</text>\\n<text x=\"105.00000000000001\" y=\"200.0\" font-size=\"14\" text-anchor=\"middle\" alignment-baseline=\"middle\" fill=\"black\" transform=\"rotate(270.0 105.00000000000001 200.0)\">Don\\'t buy</text>\\n<text x=\"70.00000000000003\" y=\"200.00000000000003\" font-size=\"14\" text-anchor=\"middle\" alignment-baseline=\"middle\" fill=\"red\" transform=\"rotate(270.0 70.00000000000003 200.00000000000003)\">Separation</text>\\n<path d=\"M 200,200 L 125.00000000000003,329.9038105676658 A 150,150 0 0,1 124.99999999999993,70.09618943233426 Z\" fill=\"none\" stroke=\"#888\" stroke-width=\"1\"/>\\n<text x=\"229.99999999999997\" y=\"148.03847577293365\" font-size=\"14\" text-anchor=\"middle\" alignment-baseline=\"middle\" fill=\"green\" transform=\"rotate(389.99999999999994 229.99999999999997 148.03847577293365)\">Gheyness</text>\\n<text x=\"247.49999999999994\" y=\"117.72758664047831\" font-size=\"14\" text-anchor=\"middle\" alignment-baseline=\"middle\" fill=\"black\" transform=\"rotate(389.99999999999994 247.49999999999994 117.72758664047831)\">Be homeless</text>\\n<text x=\"264.9999999999999\" y=\"87.41669750802295\" font-size=\"14\" text-anchor=\"middle\" alignment-baseline=\"middle\" fill=\"red\" transform=\"rotate(389.99999999999994 264.9999999999999 87.41669750802295)\">Liberation</text>\\n<path d=\"M 200,200 L 124.99999999999993,70.09618943233426 A 150,150 0 0,1 350.0,199.99999999999997 Z\" fill=\"none\" stroke=\"#888\" stroke-width=\"1\"/>\\n</svg>'"
      ]
     },
     "execution_count": 51,
     "metadata": {},
     "output_type": "execute_result"
    }
   ],
   "source": [
    "svg_code"
   ]
  }
 ],
 "metadata": {
  "kernelspec": {
   "display_name": "Python (Poetry)",
   "language": "python",
   "name": "dialectical-framework-6uuije8x-py3.13"
  },
  "language_info": {
   "codemirror_mode": {
    "name": "ipython",
    "version": 3
   },
   "file_extension": ".py",
   "mimetype": "text/x-python",
   "name": "python",
   "nbconvert_exporter": "python",
   "pygments_lexer": "ipython3",
   "version": "3.13.3"
  }
 },
 "nbformat": 4,
 "nbformat_minor": 5
}
