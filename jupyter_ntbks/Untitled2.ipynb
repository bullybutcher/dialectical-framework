{
 "cells": [
  {
   "cell_type": "code",
   "execution_count": 1,
   "id": "34155dd0-5cab-48fc-bf8d-30a833950f49",
   "metadata": {},
   "outputs": [],
   "source": [
    "import tests.test_analyst as anal"
   ]
  },
  {
   "cell_type": "code",
   "execution_count": 2,
   "id": "17d683db-c588-4045-9a9e-24b8977cf7f5",
   "metadata": {},
   "outputs": [
    {
     "data": {
      "text/plain": [
       "WisdomUnit(t_minus=DialecticalComponent(alias='T1-', statement='Destructive aggression', explanation=''), t=DialecticalComponent(alias='T1', statement='Putin initiates war', explanation=''), t_plus=DialecticalComponent(alias='T1+', statement='Strategic power projection', explanation=''), a_plus=DialecticalComponent(alias='A1+', statement='Mutual understanding', explanation=''), a=DialecticalComponent(alias='A1', statement='Peace negotiations', explanation=''), a_minus=DialecticalComponent(alias='A1-', statement='Passive submission', explanation=''))"
      ]
     },
     "execution_count": 2,
     "metadata": {},
     "output_type": "execute_result"
    }
   ],
   "source": [
    "anal.example_wu1"
   ]
  },
  {
   "cell_type": "code",
   "execution_count": 7,
   "id": "a700db54-a7c7-4dfb-bc78-6250b4bb0807",
   "metadata": {},
   "outputs": [
    {
     "data": {
      "text/plain": [
       "WisdomUnit(t_minus=DialecticalComponent(alias='T2-', statement='Endless conflict and destruction', explanation=''), t=DialecticalComponent(alias='T2', statement='Ukraine resists invasion', explanation=''), t_plus=DialecticalComponent(alias='T2+', statement='Liberation and sovereignty protected', explanation=''), a_plus=DialecticalComponent(alias='A2+', statement='Immediate peace achieved', explanation=''), a=DialecticalComponent(alias='A2', statement='Ukraine surrenders to invasion', explanation=''), a_minus=DialecticalComponent(alias='A2-', statement='Freedom and independence lost', explanation=''))"
      ]
     },
     "execution_count": 7,
     "metadata": {},
     "output_type": "execute_result"
    }
   ],
   "source": [
    "anal.example_wu2"
   ]
  },
  {
   "cell_type": "code",
   "execution_count": 3,
   "id": "5bb84536-82da-423d-9000-a6397706c50d",
   "metadata": {},
   "outputs": [
    {
     "data": {
      "text/plain": [
       "'Putin started the war, Ukraine will not surrender and will finally win!'"
      ]
     },
     "execution_count": 3,
     "metadata": {},
     "output_type": "execute_result"
    }
   ],
   "source": [
    "anal.user_message"
   ]
  },
  {
   "cell_type": "code",
   "execution_count": 4,
   "id": "e3cdb62f-d1df-4d8f-becb-c0269d85f687",
   "metadata": {},
   "outputs": [
    {
     "name": "stdout",
     "output_type": "stream",
     "text": [
      "\n",
      "\n",
      "T1-  Destructive aggression      T2-  Endless conflict and destruction      T3-  Military resources drain rapidly        T4-  Vengeance intensifies\n",
      "T1   Putin initiates war         T2   Ukraine resists invasion              T3   Russian offensive weakens               T4   Ukrainian victory approaches\n",
      "T1+  Strategic power projection  T2+  Liberation and sovereignty protected  T3+  Ukrainian victory approaches            T4+  Freedom restored\n",
      "A1+  Mutual understanding        A2+  Immediate peace achieved              A3+  Strategic military strength maintained  A4+  Stability maintained\n",
      "A1   Peace negotiations          A2   Ukraine surrenders to invasion        A3   Russian military dominance persists     A4   Russian dominance persists\n",
      "A1-  Passive submission          A2-  Freedom and independence lost         A3-  Total defeat inevitable                 A4-  Oppression deepens\n"
     ]
    }
   ],
   "source": [
    "anal.test_factory_loading()"
   ]
  },
  {
   "cell_type": "code",
   "execution_count": 5,
   "id": "ad5d18d6-59ce-4e52-b4bb-ef8898a74bf9",
   "metadata": {},
   "outputs": [
    {
     "name": "stdout",
     "output_type": "stream",
     "text": [
      "\n",
      "\n",
      "T1-  Destructive aggression      T2-  Endless conflict and destruction      T3-  Military resources drain rapidly        T4-  Vengeance intensifies\n",
      "T1   Putin initiates war         T2   Ukraine resists invasion              T3   Russian offensive weakens               T4   Ukrainian victory approaches\n",
      "T1+  Strategic power projection  T2+  Liberation and sovereignty protected  T3+  Ukrainian victory approaches            T4+  Freedom restored\n",
      "A1+  Mutual understanding        A2+  Immediate peace achieved              A3+  Strategic military strength maintained  A4+  Stability maintained\n",
      "A1   Peace negotiations          A2   Ukraine surrenders to invasion        A3   Russian military dominance persists     A4   Russian dominance persists\n",
      "A1-  Passive submission          A2-  Freedom and independence lost         A3-  Total defeat inevitable                 A4-  Oppression deepens\n",
      "\n",
      "\n",
      "\n",
      "\n",
      "T1 → T2 → T3 → T4 → A1 → A2 → A3 → A4 | Probability: 0.6\n",
      "T1 = Putin starts war\n",
      "T2 = Ukraine resists invasion\n",
      "T3 = Russian offensive weakens\n",
      "T4 = Ukrainian victory approaches\n",
      "A1 = Western provocation compels Putin's actions.\n",
      "A2 = Ukraine surrenders to invasion\n",
      "A3 = Russian military dominance persists\n",
      "A4 = Russian dominance persists\n",
      "Reasoning: This sequence is likely grounded in continuous escalation followed by gradual shifts to defensive and reactionary stances. After Ukraine resists an invasion, the opposing dominance and losses on both sides result in a cyclical return to aggression.\n",
      "Argumentation: This sequence may emerge in prolonged conflicts where military power fluctuates and ideological differences persist. It's useful for modeling protracted wars with fragile ceasefires.\n",
      "---\n",
      "T1-  Destructive aggression                                                                                   T2-  Endless conflict and destruction  T3-  Military resources drain rapidly        T4-  Vengeance intensifies\n",
      "T1   Putin starts war                                                                                         T2   Ukraine resists invasion          T3   Russian offensive weakens               T4   Ukrainian victory approaches\n",
      "T1+  Conflict Resolution through International Cooperation                                                    T2+  Keeping sovereignty               T3+  Ukrainian victory approaches            T4+  Freedom restored\n",
      "A1+  Western engagement fosters mutual understanding.                                                         A2+  Immediate peace achieved          A3+  Strategic military strength maintained  A4+  Stability maintained\n",
      "A1   Western provocation compels Putin's actions.                                                             A2   Ukraine surrenders to invasion    A3   Russian military dominance persists     A4   Russian dominance persists\n",
      "A1-  Desperation-fueled justification of any and all belligerent acts as solely reactionary and unavoidable.  A2-  Freedom and independence lost     A3-  Total defeat inevitable                 A4-  Oppression deepens\n",
      "\n",
      "T1 → T2 → T3 → A4 → A1 → A2 → A3 → T4 | Probability: 0.5\n",
      "T1 = Putin starts war\n",
      "T2 = Ukraine resists invasion\n",
      "T3 = Russian offensive weakens\n",
      "A4 = Russian dominance persists\n",
      "A1 = Western provocation compels Putin's actions.\n",
      "A2 = Ukraine surrenders to invasion\n",
      "A3 = Russian military dominance persists\n",
      "T4 = Ukrainian victory approaches\n",
      "Reasoning: This configuration reflects a dynamic where weakening offensives shift to defensive postures while resistance continues. It eventually climaxes in victory or renewed aggression.\n",
      "Argumentation: It might occur in contexts where resistance remains consistent, leading to strategic retreats. It is most applicable in limited-war analyses.\n",
      "---\n",
      "T1-  Destructive aggression                                                                                   T2-  Endless conflict and destruction  T3-  Military resources drain rapidly        A4-  Oppression deepens\n",
      "T1   Putin starts war                                                                                         T2   Ukraine resists invasion          T3   Russian offensive weakens               A4   Russian dominance persists\n",
      "T1+  Conflict Resolution through International Cooperation                                                    T2+  Keeping sovereignty               T3+  Ukrainian victory approaches            A4+  Stability maintained\n",
      "A1+  Western engagement fosters mutual understanding.                                                         A2+  Immediate peace achieved          A3+  Strategic military strength maintained  T4+  Freedom restored\n",
      "A1   Western provocation compels Putin's actions.                                                             A2   Ukraine surrenders to invasion    A3   Russian military dominance persists     T4   Ukrainian victory approaches\n",
      "A1-  Desperation-fueled justification of any and all belligerent acts as solely reactionary and unavoidable.  A2-  Freedom and independence lost     A3-  Total defeat inevitable                 T4-  Vengeance intensifies\n",
      "\n",
      "T1 → T2 → A3 → A4 → A1 → A2 → T3 → T4 | Probability: 0.5\n",
      "T1 = Putin starts war\n",
      "T2 = Ukraine resists invasion\n",
      "A3 = Russian military dominance persists\n",
      "A4 = Russian dominance persists\n",
      "A1 = Western provocation compels Putin's actions.\n",
      "A2 = Ukraine surrenders to invasion\n",
      "T3 = Russian offensive weakens\n",
      "T4 = Ukrainian victory approaches\n",
      "Reasoning: This suggests ongoing resistance leading to strategically defensive states. Overwhelming dominance may disrupt the sequence into conclusive phases.\n",
      "Argumentation: Particularly relevant in scenarios where frontline offensives face significant setbacks. Utilized in studying hybrid warfare frameworks.\n",
      "---\n",
      "T1-  Destructive aggression                                                                                   T2-  Endless conflict and destruction  A3-  Total defeat inevitable                 A4-  Oppression deepens\n",
      "T1   Putin starts war                                                                                         T2   Ukraine resists invasion          A3   Russian military dominance persists     A4   Russian dominance persists\n",
      "T1+  Conflict Resolution through International Cooperation                                                    T2+  Keeping sovereignty               A3+  Strategic military strength maintained  A4+  Stability maintained\n",
      "A1+  Western engagement fosters mutual understanding.                                                         A2+  Immediate peace achieved          T3+  Ukrainian victory approaches            T4+  Freedom restored\n",
      "A1   Western provocation compels Putin's actions.                                                             A2   Ukraine surrenders to invasion    T3   Russian offensive weakens               T4   Ukrainian victory approaches\n",
      "A1-  Desperation-fueled justification of any and all belligerent acts as solely reactionary and unavoidable.  A2-  Freedom and independence lost     T3-  Military resources drain rapidly        T4-  Vengeance intensifies\n",
      "\n",
      "T1 → T2 → A4 → T3 → A1 → A2 → T4 → A3 | Probability: 0.4\n",
      "T1 = Putin starts war\n",
      "T2 = Ukraine resists invasion\n",
      "A4 = Russian dominance persists\n",
      "T3 = Russian offensive weakens\n",
      "A1 = Western provocation compels Putin's actions.\n",
      "A2 = Ukraine surrenders to invasion\n",
      "T4 = Ukrainian victory approaches\n",
      "A3 = Russian military dominance persists\n",
      "Reasoning: This highlights variable dominance levels between the actors, moving through stages of resistance, retreats, and isolated periods of victory.\n",
      "Argumentation: This cycle aligns with conflicts where sudden escalations counter long-term stability efforts. Applicable in simulated scenarios predicting volatile power balances.\n",
      "---\n",
      "T1-  Destructive aggression                                                                                   T2-  Endless conflict and destruction  A4-  Oppression deepens            T3-  Military resources drain rapidly\n",
      "T1   Putin starts war                                                                                         T2   Ukraine resists invasion          A4   Russian dominance persists    T3   Russian offensive weakens\n",
      "T1+  Conflict Resolution through International Cooperation                                                    T2+  Keeping sovereignty               A4+  Stability maintained          T3+  Ukrainian victory approaches\n",
      "A1+  Western engagement fosters mutual understanding.                                                         A2+  Immediate peace achieved          T4+  Freedom restored              A3+  Strategic military strength maintained\n",
      "A1   Western provocation compels Putin's actions.                                                             A2   Ukraine surrenders to invasion    T4   Ukrainian victory approaches  A3   Russian military dominance persists\n",
      "A1-  Desperation-fueled justification of any and all belligerent acts as solely reactionary and unavoidable.  A2-  Freedom and independence lost     T4-  Vengeance intensifies         A3-  Total defeat inevitable\n",
      "\n",
      "T1 → A3 → T2 → A4 → A1 → T3 → A2 → T4 | Probability: 0.4\n",
      "T1 = Putin starts war\n",
      "A3 = Russian military dominance persists\n",
      "T2 = Ukraine resists invasion\n",
      "A4 = Russian dominance persists\n",
      "A1 = Western provocation compels Putin's actions.\n",
      "T3 = Russian offensive weakens\n",
      "A2 = Ukraine surrenders to invasion\n",
      "T4 = Ukrainian victory approaches\n",
      "Reasoning: Moderately plausible due to its scattered alternations producing chaotic developments while lacking defined successive transitions.\n",
      "Argumentation: Could model fractured power relations in unpredictable skirmishes. Effective for concept-driven analysis rather than historical applications.\n",
      "---\n",
      "T1-  Destructive aggression                                                                                   A3-  Total defeat inevitable                 T2-  Endless conflict and destruction  A4-  Oppression deepens\n",
      "T1   Putin starts war                                                                                         A3   Russian military dominance persists     T2   Ukraine resists invasion          A4   Russian dominance persists\n",
      "T1+  Conflict Resolution through International Cooperation                                                    A3+  Strategic military strength maintained  T2+  Keeping sovereignty               A4+  Stability maintained\n",
      "A1+  Western engagement fosters mutual understanding.                                                         T3+  Ukrainian victory approaches            A2+  Immediate peace achieved          T4+  Freedom restored\n",
      "A1   Western provocation compels Putin's actions.                                                             T3   Russian offensive weakens               A2   Ukraine surrenders to invasion    T4   Ukrainian victory approaches\n",
      "A1-  Desperation-fueled justification of any and all belligerent acts as solely reactionary and unavoidable.  T3-  Military resources drain rapidly        A2-  Freedom and independence lost     T4-  Vengeance intensifies\n",
      "\n",
      "T1 → A4 → T2 → T3 → A1 → T4 → A2 → A3 | Probability: 0.3\n",
      "T1 = Putin starts war\n",
      "A4 = Russian dominance persists\n",
      "T2 = Ukraine resists invasion\n",
      "T3 = Russian offensive weakens\n",
      "A1 = Western provocation compels Putin's actions.\n",
      "T4 = Ukrainian victory approaches\n",
      "A2 = Ukraine surrenders to invasion\n",
      "A3 = Russian military dominance persists\n",
      "Reasoning: Less realistic due to its unrealistic alternations between antithetical steps without corresponding escalation or de-escalation phases.\n",
      "Argumentation: Would fit simplified simulations where deterministic oppositions are idealized rather than actualized. Rarely applicable in real-world dynamics.\n",
      "---\n",
      "T1-  Destructive aggression                                                                                   A4-  Oppression deepens            T2-  Endless conflict and destruction  T3-  Military resources drain rapidly\n",
      "T1   Putin starts war                                                                                         A4   Russian dominance persists    T2   Ukraine resists invasion          T3   Russian offensive weakens\n",
      "T1+  Conflict Resolution through International Cooperation                                                    A4+  Stability maintained          T2+  Keeping sovereignty               T3+  Ukrainian victory approaches\n",
      "A1+  Western engagement fosters mutual understanding.                                                         T4+  Freedom restored              A2+  Immediate peace achieved          A3+  Strategic military strength maintained\n",
      "A1   Western provocation compels Putin's actions.                                                             T4   Ukrainian victory approaches  A2   Ukraine surrenders to invasion    A3   Russian military dominance persists\n",
      "A1-  Desperation-fueled justification of any and all belligerent acts as solely reactionary and unavoidable.  T4-  Vengeance intensifies         A2-  Freedom and independence lost     A3-  Total defeat inevitable\n",
      "\n",
      "T1 → A3 → A4 → T2 → A1 → T3 → T4 → A2 | Probability: 0.3\n",
      "T1 = Putin starts war\n",
      "A3 = Russian military dominance persists\n",
      "A4 = Russian dominance persists\n",
      "T2 = Ukraine resists invasion\n",
      "A1 = Western provocation compels Putin's actions.\n",
      "T3 = Russian offensive weakens\n",
      "T4 = Ukrainian victory approaches\n",
      "A2 = Ukraine surrenders to invasion\n",
      "Reasoning: Unlikely as it introduces illogical sequences like retreating forces strengthening resistance without intermediary progressions.\n",
      "Argumentation: Useful in academic exercises focused on non-linear outcomes or theoretical modeling without physical correlatives.\n",
      "---\n",
      "T1-  Destructive aggression                                                                                   A3-  Total defeat inevitable                 A4-  Oppression deepens            T2-  Endless conflict and destruction\n",
      "T1   Putin starts war                                                                                         A3   Russian military dominance persists     A4   Russian dominance persists    T2   Ukraine resists invasion\n",
      "T1+  Conflict Resolution through International Cooperation                                                    A3+  Strategic military strength maintained  A4+  Stability maintained          T2+  Keeping sovereignty\n",
      "A1+  Western engagement fosters mutual understanding.                                                         T3+  Ukrainian victory approaches            T4+  Freedom restored              A2+  Immediate peace achieved\n",
      "A1   Western provocation compels Putin's actions.                                                             T3   Russian offensive weakens               T4   Ukrainian victory approaches  A2   Ukraine surrenders to invasion\n",
      "A1-  Desperation-fueled justification of any and all belligerent acts as solely reactionary and unavoidable.  T3-  Military resources drain rapidly        T4-  Vengeance intensifies         A2-  Freedom and independence lost\n",
      "\n",
      "T1 → A2 → A3 → A4 → A1 → T2 → T3 → T4 | Probability: 0.2\n",
      "T1 = Putin starts war\n",
      "A2 = Ukraine surrenders to invasion\n",
      "A3 = Russian military dominance persists\n",
      "A4 = Russian dominance persists\n",
      "A1 = Western provocation compels Putin's actions.\n",
      "T2 = Ukraine resists invasion\n",
      "T3 = Russian offensive weakens\n",
      "T4 = Ukrainian victory approaches\n",
      "Reasoning: Highly unrealistic since all components converge to antithetical responses before reconnecting to a linear chain.\n",
      "Argumentation: Rarely seen except in contrived situations focusing on rapid opposition reconciliations. Mostly theoretical and impractical in real contexts.\n",
      "---\n",
      "T1-  Destructive aggression                                                                                   A2-  Freedom and independence lost     A3-  Total defeat inevitable                 A4-  Oppression deepens\n",
      "T1   Putin starts war                                                                                         A2   Ukraine surrenders to invasion    A3   Russian military dominance persists     A4   Russian dominance persists\n",
      "T1+  Conflict Resolution through International Cooperation                                                    A2+  Immediate peace achieved          A3+  Strategic military strength maintained  A4+  Stability maintained\n",
      "A1+  Western engagement fosters mutual understanding.                                                         T2+  Keeping sovereignty               T3+  Ukrainian victory approaches            T4+  Freedom restored\n",
      "A1   Western provocation compels Putin's actions.                                                             T2   Ukraine resists invasion          T3   Russian offensive weakens               T4   Ukrainian victory approaches\n",
      "A1-  Desperation-fueled justification of any and all belligerent acts as solely reactionary and unavoidable.  T2-  Endless conflict and destruction  T3-  Military resources drain rapidly        T4-  Vengeance intensifies\n"
     ]
    }
   ],
   "source": [
    "await anal.test_wheel_redefine()"
   ]
  },
  {
   "cell_type": "code",
   "execution_count": 6,
   "id": "4e57e62a-27a8-40ff-bb4a-dc8903f1ad80",
   "metadata": {},
   "outputs": [
    {
     "ename": "RuntimeError",
     "evalue": "asyncio.run() cannot be called from a running event loop",
     "output_type": "error",
     "traceback": [
      "\u001b[31m---------------------------------------------------------------------------\u001b[39m",
      "\u001b[31mRuntimeError\u001b[39m                              Traceback (most recent call last)",
      "\u001b[36mCell\u001b[39m\u001b[36m \u001b[39m\u001b[32mIn[6]\u001b[39m\u001b[32m, line 1\u001b[39m\n\u001b[32m----> \u001b[39m\u001b[32m1\u001b[39m \u001b[38;5;28;01mawait\u001b[39;00m \u001b[43manal\u001b[49m\u001b[43m.\u001b[49m\u001b[43mtest_thought_mapping\u001b[49m\u001b[43m(\u001b[49m\u001b[43m)\u001b[49m\n",
      "\u001b[36mFile \u001b[39m\u001b[32m~/Library/Caches/pypoetry/virtualenvs/dialectical-framework-6UUiJe8X-py3.13/lib/python3.13/site-packages/langfuse/decorators/langfuse_decorator.py:256\u001b[39m, in \u001b[36mLangfuseDecorator._sync_observe.<locals>.sync_wrapper\u001b[39m\u001b[34m(*args, **kwargs)\u001b[39m\n\u001b[32m    254\u001b[39m     result = func(*args, **kwargs)\n\u001b[32m    255\u001b[39m \u001b[38;5;28;01mexcept\u001b[39;00m \u001b[38;5;167;01mException\u001b[39;00m \u001b[38;5;28;01mas\u001b[39;00m e:\n\u001b[32m--> \u001b[39m\u001b[32m256\u001b[39m     \u001b[38;5;28;43mself\u001b[39;49m\u001b[43m.\u001b[49m\u001b[43m_handle_exception\u001b[49m\u001b[43m(\u001b[49m\u001b[43mobservation\u001b[49m\u001b[43m,\u001b[49m\u001b[43m \u001b[49m\u001b[43me\u001b[49m\u001b[43m)\u001b[49m\n\u001b[32m    257\u001b[39m \u001b[38;5;28;01mfinally\u001b[39;00m:\n\u001b[32m    258\u001b[39m     result = \u001b[38;5;28mself\u001b[39m._finalize_call(\n\u001b[32m    259\u001b[39m         observation, result, capture_output, transform_to_string\n\u001b[32m    260\u001b[39m     )\n",
      "\u001b[36mFile \u001b[39m\u001b[32m~/Library/Caches/pypoetry/virtualenvs/dialectical-framework-6UUiJe8X-py3.13/lib/python3.13/site-packages/langfuse/decorators/langfuse_decorator.py:520\u001b[39m, in \u001b[36mLangfuseDecorator._handle_exception\u001b[39m\u001b[34m(self, observation, e)\u001b[39m\n\u001b[32m    516\u001b[39m \u001b[38;5;28;01mif\u001b[39;00m observation:\n\u001b[32m    517\u001b[39m     _observation_params_context.get()[observation.id].update(\n\u001b[32m    518\u001b[39m         level=\u001b[33m\"\u001b[39m\u001b[33mERROR\u001b[39m\u001b[33m\"\u001b[39m, status_message=\u001b[38;5;28mstr\u001b[39m(e)\n\u001b[32m    519\u001b[39m     )\n\u001b[32m--> \u001b[39m\u001b[32m520\u001b[39m \u001b[38;5;28;01mraise\u001b[39;00m e\n",
      "\u001b[36mFile \u001b[39m\u001b[32m~/Library/Caches/pypoetry/virtualenvs/dialectical-framework-6UUiJe8X-py3.13/lib/python3.13/site-packages/langfuse/decorators/langfuse_decorator.py:254\u001b[39m, in \u001b[36mLangfuseDecorator._sync_observe.<locals>.sync_wrapper\u001b[39m\u001b[34m(*args, **kwargs)\u001b[39m\n\u001b[32m    251\u001b[39m result = \u001b[38;5;28;01mNone\u001b[39;00m\n\u001b[32m    253\u001b[39m \u001b[38;5;28;01mtry\u001b[39;00m:\n\u001b[32m--> \u001b[39m\u001b[32m254\u001b[39m     result = \u001b[43mfunc\u001b[49m\u001b[43m(\u001b[49m\u001b[43m*\u001b[49m\u001b[43margs\u001b[49m\u001b[43m,\u001b[49m\u001b[43m \u001b[49m\u001b[43m*\u001b[49m\u001b[43m*\u001b[49m\u001b[43mkwargs\u001b[49m\u001b[43m)\u001b[49m\n\u001b[32m    255\u001b[39m \u001b[38;5;28;01mexcept\u001b[39;00m \u001b[38;5;167;01mException\u001b[39;00m \u001b[38;5;28;01mas\u001b[39;00m e:\n\u001b[32m    256\u001b[39m     \u001b[38;5;28mself\u001b[39m._handle_exception(observation, e)\n",
      "\u001b[36mFile \u001b[39m\u001b[32m~/dialectical-framework/tests/test_analyst.py:92\u001b[39m, in \u001b[36mtest_thought_mapping\u001b[39m\u001b[34m()\u001b[39m\n\u001b[32m     90\u001b[39m nr_of_thoughts = \u001b[32m3\u001b[39m\n\u001b[32m     91\u001b[39m reasoner = ThoughtMapping(user_message)\n\u001b[32m---> \u001b[39m\u001b[32m92\u001b[39m cycles: List[Cycle] = \u001b[43masyncio\u001b[49m\u001b[43m.\u001b[49m\u001b[43mrun\u001b[49m\u001b[43m(\u001b[49m\u001b[43mreasoner\u001b[49m\u001b[43m.\u001b[49m\u001b[43mextract\u001b[49m\u001b[43m(\u001b[49m\u001b[43mnr_of_thoughts\u001b[49m\u001b[43m)\u001b[49m\u001b[43m)\u001b[49m\n\u001b[32m     93\u001b[39m \u001b[38;5;28mprint\u001b[39m(\u001b[33m\"\u001b[39m\u001b[38;5;130;01m\\n\u001b[39;00m\u001b[33m\"\u001b[39m)\n\u001b[32m     94\u001b[39m \u001b[38;5;28;01mfor\u001b[39;00m cycle \u001b[38;5;129;01min\u001b[39;00m cycles:\n",
      "\u001b[36mFile \u001b[39m\u001b[32m/opt/homebrew/Cellar/python@3.13/3.13.3_1/Frameworks/Python.framework/Versions/3.13/lib/python3.13/asyncio/runners.py:191\u001b[39m, in \u001b[36mrun\u001b[39m\u001b[34m(main, debug, loop_factory)\u001b[39m\n\u001b[32m    161\u001b[39m \u001b[38;5;250m\u001b[39m\u001b[33;03m\"\"\"Execute the coroutine and return the result.\u001b[39;00m\n\u001b[32m    162\u001b[39m \n\u001b[32m    163\u001b[39m \u001b[33;03mThis function runs the passed coroutine, taking care of\u001b[39;00m\n\u001b[32m   (...)\u001b[39m\u001b[32m    187\u001b[39m \u001b[33;03m    asyncio.run(main())\u001b[39;00m\n\u001b[32m    188\u001b[39m \u001b[33;03m\"\"\"\u001b[39;00m\n\u001b[32m    189\u001b[39m \u001b[38;5;28;01mif\u001b[39;00m events._get_running_loop() \u001b[38;5;129;01mis\u001b[39;00m \u001b[38;5;129;01mnot\u001b[39;00m \u001b[38;5;28;01mNone\u001b[39;00m:\n\u001b[32m    190\u001b[39m     \u001b[38;5;66;03m# fail fast with short traceback\u001b[39;00m\n\u001b[32m--> \u001b[39m\u001b[32m191\u001b[39m     \u001b[38;5;28;01mraise\u001b[39;00m \u001b[38;5;167;01mRuntimeError\u001b[39;00m(\n\u001b[32m    192\u001b[39m         \u001b[33m\"\u001b[39m\u001b[33masyncio.run() cannot be called from a running event loop\u001b[39m\u001b[33m\"\u001b[39m)\n\u001b[32m    194\u001b[39m \u001b[38;5;28;01mwith\u001b[39;00m Runner(debug=debug, loop_factory=loop_factory) \u001b[38;5;28;01mas\u001b[39;00m runner:\n\u001b[32m    195\u001b[39m     \u001b[38;5;28;01mreturn\u001b[39;00m runner.run(main)\n",
      "\u001b[31mRuntimeError\u001b[39m: asyncio.run() cannot be called from a running event loop"
     ]
    }
   ],
   "source": [
    "await anal.test_thought_mapping()"
   ]
  }
 ],
 "metadata": {
  "kernelspec": {
   "display_name": "Python 3 (ipykernel)",
   "language": "python",
   "name": "python3"
  },
  "language_info": {
   "codemirror_mode": {
    "name": "ipython",
    "version": 3
   },
   "file_extension": ".py",
   "mimetype": "text/x-python",
   "name": "python",
   "nbconvert_exporter": "python",
   "pygments_lexer": "ipython3",
   "version": "3.13.3"
  }
 },
 "nbformat": 4,
 "nbformat_minor": 5
}
